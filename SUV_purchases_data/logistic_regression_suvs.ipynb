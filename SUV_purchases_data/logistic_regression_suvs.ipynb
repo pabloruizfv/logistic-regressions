{
 "cells": [
  {
   "cell_type": "markdown",
   "id": "310a2121",
   "metadata": {},
   "source": [
    "# Logistic Regression (SUV purchase Use Case)"
   ]
  },
  {
   "cell_type": "markdown",
   "id": "9c28baff",
   "metadata": {},
   "source": [
    "#### 1. Initial Imports"
   ]
  },
  {
   "cell_type": "code",
   "execution_count": 1,
   "id": "0c980a97",
   "metadata": {},
   "outputs": [],
   "source": [
    "import pandas as pd\n",
    "import numpy as np\n",
    "from matplotlib import pyplot as plt\n",
    "import seaborn as sns\n",
    "%matplotlib inline"
   ]
  },
  {
   "cell_type": "markdown",
   "id": "0be5a87f",
   "metadata": {},
   "source": [
    "#### 2. Load data\n",
    "Load Pandas DataFrame from CSV file"
   ]
  },
  {
   "cell_type": "code",
   "execution_count": 2,
   "id": "48633962",
   "metadata": {},
   "outputs": [],
   "source": [
    "suv_data = pd.read_csv('suv.csv')"
   ]
  },
  {
   "cell_type": "markdown",
   "id": "03eaab43",
   "metadata": {},
   "source": [
    "#### 3. Build the independent and dependent variable arrays"
   ]
  },
  {
   "cell_type": "markdown",
   "id": "df688ea7",
   "metadata": {},
   "source": [
    "During the exploratory analysis phase, I chose 'Age', 'Gender' and 'EstimatedSalary' as the *independent variables*; and set 'Purchased' as the *dependent variable*.\n",
    "\n",
    "This means that the logistic regression will try to predict whether a client will purchase an SUV car (1) or not (0) depending on the clients age, gender and salary; or a subset of these.\n",
    "\n",
    "Remember the structure of the DataFrame:"
   ]
  },
  {
   "cell_type": "code",
   "execution_count": 3,
   "id": "1abdcdce",
   "metadata": {},
   "outputs": [
    {
     "data": {
      "text/html": [
       "<div>\n",
       "<style scoped>\n",
       "    .dataframe tbody tr th:only-of-type {\n",
       "        vertical-align: middle;\n",
       "    }\n",
       "\n",
       "    .dataframe tbody tr th {\n",
       "        vertical-align: top;\n",
       "    }\n",
       "\n",
       "    .dataframe thead th {\n",
       "        text-align: right;\n",
       "    }\n",
       "</style>\n",
       "<table border=\"1\" class=\"dataframe\">\n",
       "  <thead>\n",
       "    <tr style=\"text-align: right;\">\n",
       "      <th></th>\n",
       "      <th>User ID</th>\n",
       "      <th>Gender</th>\n",
       "      <th>Age</th>\n",
       "      <th>EstimatedSalary</th>\n",
       "      <th>Purchased</th>\n",
       "    </tr>\n",
       "  </thead>\n",
       "  <tbody>\n",
       "    <tr>\n",
       "      <th>0</th>\n",
       "      <td>15624510</td>\n",
       "      <td>Male</td>\n",
       "      <td>19</td>\n",
       "      <td>19000</td>\n",
       "      <td>0</td>\n",
       "    </tr>\n",
       "    <tr>\n",
       "      <th>1</th>\n",
       "      <td>15810944</td>\n",
       "      <td>Male</td>\n",
       "      <td>35</td>\n",
       "      <td>20000</td>\n",
       "      <td>0</td>\n",
       "    </tr>\n",
       "    <tr>\n",
       "      <th>2</th>\n",
       "      <td>15668575</td>\n",
       "      <td>Female</td>\n",
       "      <td>26</td>\n",
       "      <td>43000</td>\n",
       "      <td>0</td>\n",
       "    </tr>\n",
       "    <tr>\n",
       "      <th>3</th>\n",
       "      <td>15603246</td>\n",
       "      <td>Female</td>\n",
       "      <td>27</td>\n",
       "      <td>57000</td>\n",
       "      <td>0</td>\n",
       "    </tr>\n",
       "    <tr>\n",
       "      <th>4</th>\n",
       "      <td>15804002</td>\n",
       "      <td>Male</td>\n",
       "      <td>19</td>\n",
       "      <td>76000</td>\n",
       "      <td>0</td>\n",
       "    </tr>\n",
       "  </tbody>\n",
       "</table>\n",
       "</div>"
      ],
      "text/plain": [
       "    User ID  Gender  Age  EstimatedSalary  Purchased\n",
       "0  15624510    Male   19            19000          0\n",
       "1  15810944    Male   35            20000          0\n",
       "2  15668575  Female   26            43000          0\n",
       "3  15603246  Female   27            57000          0\n",
       "4  15804002    Male   19            76000          0"
      ]
     },
     "execution_count": 3,
     "metadata": {},
     "output_type": "execute_result"
    }
   ],
   "source": [
    "suv_data.head()"
   ]
  },
  {
   "cell_type": "markdown",
   "id": "351d91ec",
   "metadata": {},
   "source": [
    "I will not need the \"User ID\" column."
   ]
  },
  {
   "cell_type": "code",
   "execution_count": 4,
   "id": "bff43a5b",
   "metadata": {
    "scrolled": false
   },
   "outputs": [
    {
     "data": {
      "text/html": [
       "<div>\n",
       "<style scoped>\n",
       "    .dataframe tbody tr th:only-of-type {\n",
       "        vertical-align: middle;\n",
       "    }\n",
       "\n",
       "    .dataframe tbody tr th {\n",
       "        vertical-align: top;\n",
       "    }\n",
       "\n",
       "    .dataframe thead th {\n",
       "        text-align: right;\n",
       "    }\n",
       "</style>\n",
       "<table border=\"1\" class=\"dataframe\">\n",
       "  <thead>\n",
       "    <tr style=\"text-align: right;\">\n",
       "      <th></th>\n",
       "      <th>Gender</th>\n",
       "      <th>Age</th>\n",
       "      <th>EstimatedSalary</th>\n",
       "      <th>Purchased</th>\n",
       "    </tr>\n",
       "  </thead>\n",
       "  <tbody>\n",
       "    <tr>\n",
       "      <th>0</th>\n",
       "      <td>Male</td>\n",
       "      <td>19</td>\n",
       "      <td>19000</td>\n",
       "      <td>0</td>\n",
       "    </tr>\n",
       "    <tr>\n",
       "      <th>1</th>\n",
       "      <td>Male</td>\n",
       "      <td>35</td>\n",
       "      <td>20000</td>\n",
       "      <td>0</td>\n",
       "    </tr>\n",
       "    <tr>\n",
       "      <th>2</th>\n",
       "      <td>Female</td>\n",
       "      <td>26</td>\n",
       "      <td>43000</td>\n",
       "      <td>0</td>\n",
       "    </tr>\n",
       "    <tr>\n",
       "      <th>3</th>\n",
       "      <td>Female</td>\n",
       "      <td>27</td>\n",
       "      <td>57000</td>\n",
       "      <td>0</td>\n",
       "    </tr>\n",
       "    <tr>\n",
       "      <th>4</th>\n",
       "      <td>Male</td>\n",
       "      <td>19</td>\n",
       "      <td>76000</td>\n",
       "      <td>0</td>\n",
       "    </tr>\n",
       "  </tbody>\n",
       "</table>\n",
       "</div>"
      ],
      "text/plain": [
       "   Gender  Age  EstimatedSalary  Purchased\n",
       "0    Male   19            19000          0\n",
       "1    Male   35            20000          0\n",
       "2  Female   26            43000          0\n",
       "3  Female   27            57000          0\n",
       "4    Male   19            76000          0"
      ]
     },
     "execution_count": 4,
     "metadata": {},
     "output_type": "execute_result"
    }
   ],
   "source": [
    "clean_data = suv_data.drop(['User ID'], axis=1)\n",
    "clean_data.head()"
   ]
  },
  {
   "cell_type": "markdown",
   "id": "74449ee0",
   "metadata": {},
   "source": [
    "Now I need to make 'Gender' column a numerical column (1 for Female, 0 for Male):\n",
    "\n",
    "\"Gender\" column may be removed, since it does not have a big impact in the results."
   ]
  },
  {
   "cell_type": "code",
   "execution_count": 5,
   "id": "b25295cf",
   "metadata": {
    "scrolled": false
   },
   "outputs": [
    {
     "data": {
      "text/html": [
       "<div>\n",
       "<style scoped>\n",
       "    .dataframe tbody tr th:only-of-type {\n",
       "        vertical-align: middle;\n",
       "    }\n",
       "\n",
       "    .dataframe tbody tr th {\n",
       "        vertical-align: top;\n",
       "    }\n",
       "\n",
       "    .dataframe thead th {\n",
       "        text-align: right;\n",
       "    }\n",
       "</style>\n",
       "<table border=\"1\" class=\"dataframe\">\n",
       "  <thead>\n",
       "    <tr style=\"text-align: right;\">\n",
       "      <th></th>\n",
       "      <th>Gender</th>\n",
       "      <th>Age</th>\n",
       "      <th>EstimatedSalary</th>\n",
       "      <th>Purchased</th>\n",
       "    </tr>\n",
       "  </thead>\n",
       "  <tbody>\n",
       "    <tr>\n",
       "      <th>0</th>\n",
       "      <td>0</td>\n",
       "      <td>19</td>\n",
       "      <td>19000</td>\n",
       "      <td>0</td>\n",
       "    </tr>\n",
       "    <tr>\n",
       "      <th>1</th>\n",
       "      <td>0</td>\n",
       "      <td>35</td>\n",
       "      <td>20000</td>\n",
       "      <td>0</td>\n",
       "    </tr>\n",
       "    <tr>\n",
       "      <th>2</th>\n",
       "      <td>1</td>\n",
       "      <td>26</td>\n",
       "      <td>43000</td>\n",
       "      <td>0</td>\n",
       "    </tr>\n",
       "    <tr>\n",
       "      <th>3</th>\n",
       "      <td>1</td>\n",
       "      <td>27</td>\n",
       "      <td>57000</td>\n",
       "      <td>0</td>\n",
       "    </tr>\n",
       "    <tr>\n",
       "      <th>4</th>\n",
       "      <td>0</td>\n",
       "      <td>19</td>\n",
       "      <td>76000</td>\n",
       "      <td>0</td>\n",
       "    </tr>\n",
       "  </tbody>\n",
       "</table>\n",
       "</div>"
      ],
      "text/plain": [
       "   Gender  Age  EstimatedSalary  Purchased\n",
       "0       0   19            19000          0\n",
       "1       0   35            20000          0\n",
       "2       1   26            43000          0\n",
       "3       1   27            57000          0\n",
       "4       0   19            76000          0"
      ]
     },
     "execution_count": 5,
     "metadata": {},
     "output_type": "execute_result"
    }
   ],
   "source": [
    "clean_data['Gender'] = clean_data['Gender'].apply(lambda x: 1 if x == 'Female' else 0)\n",
    "# clean_data.drop(['Gender'], axis=1, inplace=True) # Uncomment to try model without Gender, but better results are achieved with Gender\n",
    "clean_data.head()"
   ]
  },
  {
   "cell_type": "markdown",
   "id": "5429972d",
   "metadata": {},
   "source": [
    "Ensure that there are no null values in this cleaned DataFrame:"
   ]
  },
  {
   "cell_type": "code",
   "execution_count": 6,
   "id": "909c5290",
   "metadata": {
    "scrolled": true
   },
   "outputs": [
    {
     "name": "stdout",
     "output_type": "stream",
     "text": [
      "0\n"
     ]
    }
   ],
   "source": [
    "print(clean_data.isnull().sum().sum())"
   ]
  },
  {
   "cell_type": "markdown",
   "id": "ca985034",
   "metadata": {},
   "source": [
    "Extract X (dependent variables) and y (independent variable) from the cleaned DataFrame:"
   ]
  },
  {
   "cell_type": "code",
   "execution_count": 7,
   "id": "1d10d449",
   "metadata": {
    "scrolled": false
   },
   "outputs": [
    {
     "name": "stdout",
     "output_type": "stream",
     "text": [
      "   Gender  Age  EstimatedSalary\n",
      "0       0   19            19000\n",
      "1       0   35            20000\n",
      "2       1   26            43000\n",
      "3       1   27            57000\n",
      "4       0   19            76000 \n",
      "\n",
      "[0 0 0 0 0 0 0 1 0 0]\n"
     ]
    }
   ],
   "source": [
    "X = clean_data.drop(['Purchased'], axis=1)\n",
    "y = clean_data['Purchased'].values\n",
    "print(X.head(), '\\n')\n",
    "print(y[0:10])"
   ]
  },
  {
   "cell_type": "markdown",
   "id": "1d01e719",
   "metadata": {},
   "source": [
    "#### 5. Scale the independent variables"
   ]
  },
  {
   "cell_type": "markdown",
   "id": "5eaf2325",
   "metadata": {},
   "source": [
    "Import StandardScaler class and initialise object:"
   ]
  },
  {
   "cell_type": "code",
   "execution_count": 8,
   "id": "21d54dd9",
   "metadata": {},
   "outputs": [],
   "source": [
    "from sklearn.preprocessing import StandardScaler\n",
    "sc = StandardScaler()"
   ]
  },
  {
   "cell_type": "markdown",
   "id": "997d53da",
   "metadata": {},
   "source": [
    "Scale the independent variables to same distribution (mean = 0, variance = 1):"
   ]
  },
  {
   "cell_type": "code",
   "execution_count": 9,
   "id": "a65dc176",
   "metadata": {},
   "outputs": [
    {
     "data": {
      "text/plain": [
       "array([[-1.02020406, -1.78179743, -1.49004624],\n",
       "       [-1.02020406, -0.25358736, -1.46068138],\n",
       "       [ 0.98019606, -1.11320552, -0.78528968],\n",
       "       ...,\n",
       "       [ 0.98019606,  1.17910958, -1.46068138],\n",
       "       [-1.02020406, -0.15807423, -1.07893824],\n",
       "       [ 0.98019606,  1.08359645, -0.99084367]])"
      ]
     },
     "execution_count": 9,
     "metadata": {},
     "output_type": "execute_result"
    }
   ],
   "source": [
    "norm_X = sc.fit_transform(X)\n",
    "norm_X"
   ]
  },
  {
   "cell_type": "markdown",
   "id": "43dabd45",
   "metadata": {},
   "source": [
    "#### 6. Split into train and test data"
   ]
  },
  {
   "cell_type": "markdown",
   "id": "bc4c3ad5",
   "metadata": {},
   "source": [
    "Given a test size (in this case, 25% of the whole sample), randomly divide the entries between train data, which will be used to train the model; and test data, which will be used to test the model's predictions."
   ]
  },
  {
   "cell_type": "code",
   "execution_count": 10,
   "id": "bc4ab7ec",
   "metadata": {},
   "outputs": [
    {
     "data": {
      "text/plain": [
       "(300, 100)"
      ]
     },
     "execution_count": 10,
     "metadata": {},
     "output_type": "execute_result"
    }
   ],
   "source": [
    "from sklearn.model_selection import train_test_split\n",
    "X_train, X_test, y_train, y_test = train_test_split(norm_X, y, \n",
    "                                                    test_size=0.25, \n",
    "                                                    random_state=42)\n",
    "len(X_train), len(X_test)"
   ]
  },
  {
   "cell_type": "markdown",
   "id": "05ddedfa",
   "metadata": {},
   "source": [
    "#### 7. Build and train logistic regression model"
   ]
  },
  {
   "cell_type": "markdown",
   "id": "15985aab",
   "metadata": {},
   "source": [
    "Import LogisticRegression class and initialise object:"
   ]
  },
  {
   "cell_type": "code",
   "execution_count": 11,
   "id": "7f8d01e2",
   "metadata": {},
   "outputs": [],
   "source": [
    "from sklearn.linear_model import LogisticRegression\n",
    "model = LogisticRegression(random_state=10)"
   ]
  },
  {
   "cell_type": "markdown",
   "id": "4884123c",
   "metadata": {},
   "source": [
    "Fit the train data to the model:"
   ]
  },
  {
   "cell_type": "code",
   "execution_count": 12,
   "id": "0506cd54",
   "metadata": {},
   "outputs": [
    {
     "data": {
      "text/plain": [
       "LogisticRegression(random_state=10)"
      ]
     },
     "execution_count": 12,
     "metadata": {},
     "output_type": "execute_result"
    }
   ],
   "source": [
    "model.fit(X_train, y_train)"
   ]
  },
  {
   "cell_type": "markdown",
   "id": "c496d923",
   "metadata": {},
   "source": [
    "#### 8. Apply trained model to the test data and check results"
   ]
  },
  {
   "cell_type": "markdown",
   "id": "095d5a8b",
   "metadata": {},
   "source": [
    "Use the model to make predictions (0/1 whether or not the client will buy an SUV) from the test entries' dependent variables:"
   ]
  },
  {
   "cell_type": "code",
   "execution_count": 13,
   "id": "346973b3",
   "metadata": {
    "scrolled": false
   },
   "outputs": [
    {
     "data": {
      "text/plain": [
       "array([0, 1, 0, 1, 0, 0, 1, 0, 0, 0, 0, 1, 0, 0, 0, 0, 1, 1, 0, 1, 0, 0,\n",
       "       0, 1, 0, 1, 1, 0, 1, 0, 0, 0, 1, 0, 1, 0, 0, 0, 0, 0, 0, 0, 0, 0,\n",
       "       0, 1, 0, 0, 1, 0, 0, 1, 0, 0, 0, 0, 1, 0, 0, 0, 0, 0, 1, 0, 0, 0,\n",
       "       1, 1, 0, 0, 1, 0, 0, 0, 0, 0, 1, 1, 0, 0, 0, 0, 1, 0, 1, 0, 0, 1,\n",
       "       0, 0, 1, 0, 0, 0, 0, 0, 1, 0, 1, 0], dtype=int64)"
      ]
     },
     "execution_count": 13,
     "metadata": {},
     "output_type": "execute_result"
    }
   ],
   "source": [
    "y_pred = model.predict(X_test)\n",
    "y_pred"
   ]
  },
  {
   "cell_type": "markdown",
   "id": "67eea95c",
   "metadata": {},
   "source": [
    "Import classification_report function and create report regarding how well the model has classified this train data (y_pred), compared to the actual true classification (y_test):"
   ]
  },
  {
   "cell_type": "code",
   "execution_count": 14,
   "id": "16bca103",
   "metadata": {},
   "outputs": [
    {
     "name": "stdout",
     "output_type": "stream",
     "text": [
      "              precision    recall  f1-score   support\n",
      "\n",
      "           0       0.86      0.97      0.91        63\n",
      "           1       0.93      0.73      0.82        37\n",
      "\n",
      "    accuracy                           0.88       100\n",
      "   macro avg       0.90      0.85      0.86       100\n",
      "weighted avg       0.89      0.88      0.88       100\n",
      "\n"
     ]
    }
   ],
   "source": [
    "from sklearn.metrics import classification_report\n",
    "print(classification_report(y_test, y_pred))"
   ]
  },
  {
   "cell_type": "markdown",
   "id": "8a39e0e8",
   "metadata": {},
   "source": [
    "Import confusion_matrix function and create confusion matrix:"
   ]
  },
  {
   "cell_type": "code",
   "execution_count": 15,
   "id": "835bffb8",
   "metadata": {
    "scrolled": false
   },
   "outputs": [
    {
     "data": {
      "text/html": [
       "<div>\n",
       "<style scoped>\n",
       "    .dataframe tbody tr th:only-of-type {\n",
       "        vertical-align: middle;\n",
       "    }\n",
       "\n",
       "    .dataframe tbody tr th {\n",
       "        vertical-align: top;\n",
       "    }\n",
       "\n",
       "    .dataframe thead th {\n",
       "        text-align: right;\n",
       "    }\n",
       "</style>\n",
       "<table border=\"1\" class=\"dataframe\">\n",
       "  <thead>\n",
       "    <tr style=\"text-align: right;\">\n",
       "      <th></th>\n",
       "      <th>Predicted 0s</th>\n",
       "      <th>Predicted 1s</th>\n",
       "    </tr>\n",
       "  </thead>\n",
       "  <tbody>\n",
       "    <tr>\n",
       "      <th>Actual 0s</th>\n",
       "      <td>61</td>\n",
       "      <td>2</td>\n",
       "    </tr>\n",
       "    <tr>\n",
       "      <th>Actual 1s</th>\n",
       "      <td>10</td>\n",
       "      <td>27</td>\n",
       "    </tr>\n",
       "  </tbody>\n",
       "</table>\n",
       "</div>"
      ],
      "text/plain": [
       "           Predicted 0s  Predicted 1s\n",
       "Actual 0s            61             2\n",
       "Actual 1s            10            27"
      ]
     },
     "execution_count": 15,
     "metadata": {},
     "output_type": "execute_result"
    }
   ],
   "source": [
    "from sklearn.metrics import confusion_matrix\n",
    "cf_matrix = confusion_matrix(y_test, y_pred)\n",
    "pd.DataFrame(cf_matrix, columns=['Predicted 0s','Predicted 1s'], index=['Actual 0s','Actual 1s'])"
   ]
  },
  {
   "cell_type": "markdown",
   "id": "8f77d20a",
   "metadata": {},
   "source": [
    "#### 9. Predict probabilities instead of 0/1"
   ]
  },
  {
   "cell_type": "markdown",
   "id": "52521b17",
   "metadata": {},
   "source": [
    "In reality, a logistic regression actually generates values (probabilities) between 0 and 1. When the value is higher than 0.5 it is assigned to 1. On the other hand, when the value is lower than 0.5, it is assigned to 0.\n",
    "\n",
    "Instead of directly obtaining the 0/1 classification, I want to reach the actual probabilities in each case."
   ]
  },
  {
   "cell_type": "code",
   "execution_count": 16,
   "id": "fe32838d",
   "metadata": {},
   "outputs": [
    {
     "data": {
      "text/plain": [
       "array([[0.7439731 , 0.2560269 ],\n",
       "       [0.02973754, 0.97026246],\n",
       "       [0.97774951, 0.02225049],\n",
       "       [0.16069512, 0.83930488],\n",
       "       [0.98368824, 0.01631176]])"
      ]
     },
     "execution_count": 16,
     "metadata": {},
     "output_type": "execute_result"
    }
   ],
   "source": [
    "y_test_probs = model.predict_proba(X_test)\n",
    "y_test_probs[0:5]"
   ]
  },
  {
   "cell_type": "markdown",
   "id": "3efa5c82",
   "metadata": {},
   "source": [
    "Now I search for the cases in which we are failing to predict well, and I check the probability values:"
   ]
  },
  {
   "cell_type": "code",
   "execution_count": 17,
   "id": "4d2a2ae7",
   "metadata": {},
   "outputs": [
    {
     "name": "stdout",
     "output_type": "stream",
     "text": [
      "17, real: 0, predicted: 1, predicted probability: 0.6406241038147275\n",
      "22, real: 1, predicted: 0, predicted probability: 0.3375557452001464\n",
      "26, real: 0, predicted: 1, predicted probability: 0.5451155889791178\n",
      "30, real: 1, predicted: 0, predicted probability: 0.385625241342253\n",
      "40, real: 1, predicted: 0, predicted probability: 0.45801389147395805\n",
      "43, real: 1, predicted: 0, predicted probability: 0.31667429451067813\n",
      "65, real: 1, predicted: 0, predicted probability: 0.26293053410222067\n",
      "74, real: 1, predicted: 0, predicted probability: 0.4191489366633192\n",
      "79, real: 1, predicted: 0, predicted probability: 0.2686614592041106\n",
      "81, real: 1, predicted: 0, predicted probability: 0.3305695592629724\n",
      "85, real: 1, predicted: 0, predicted probability: 0.38950423496340897\n",
      "99, real: 1, predicted: 0, predicted probability: 0.4198652953617394\n"
     ]
    }
   ],
   "source": [
    "wrong_indices = []\n",
    "for i in range(len(y_test)):\n",
    "    real, pred = y_test[i], y_pred[i]\n",
    "    if real != pred:\n",
    "        print('{}, real: {}, predicted: {}, predicted probability: {}'\n",
    "              .format(i, real, y_pred[i], y_test_probs[i][1]))\n",
    "        wrong_indices.append(i)"
   ]
  },
  {
   "cell_type": "markdown",
   "id": "3d536675",
   "metadata": {},
   "source": [
    "It seems like all probabilities of the entries we fail to classifiy correctly fall between 0.25 and 0.75, which make sense. These probabilities indicate that the model is not (so) that sure if assigning 0 or 1.\n",
    "\n",
    "Let's check the probability distribution for all entries, not only the miss-classified:"
   ]
  },
  {
   "cell_type": "code",
   "execution_count": 18,
   "id": "7a8e3225",
   "metadata": {},
   "outputs": [
    {
     "data": {
      "image/png": "[encoded data removed]",
      "text/plain": [
       "<Figure size 432x288 with 1 Axes>"
      ]
     },
     "metadata": {
      "needs_background": "light"
     },
     "output_type": "display_data"
    }
   ],
   "source": [
    "y_probabilities = []\n",
    "for prob_0, prob_1 in y_test_probs:\n",
    "    y_probabilities.append(prob_0)\n",
    "y_probabilities = np.array(y_probabilities)\n",
    "\n",
    "df = pd.DataFrame(data=y_probabilities, columns=['probability'])\n",
    "\n",
    "df.plot.hist(bins=20, color='purple')\n",
    "plt.show()"
   ]
  },
  {
   "cell_type": "markdown",
   "id": "c1732124",
   "metadata": {},
   "source": [
    "Lots of probability values are outside the 0.25-0.75 range. Let's check exactly how many:"
   ]
  },
  {
   "cell_type": "code",
   "execution_count": 19,
   "id": "7b35e830",
   "metadata": {},
   "outputs": [
    {
     "data": {
      "text/html": [
       "<div>\n",
       "<style scoped>\n",
       "    .dataframe tbody tr th:only-of-type {\n",
       "        vertical-align: middle;\n",
       "    }\n",
       "\n",
       "    .dataframe tbody tr th {\n",
       "        vertical-align: top;\n",
       "    }\n",
       "\n",
       "    .dataframe thead th {\n",
       "        text-align: right;\n",
       "    }\n",
       "</style>\n",
       "<table border=\"1\" class=\"dataframe\">\n",
       "  <thead>\n",
       "    <tr style=\"text-align: right;\">\n",
       "      <th></th>\n",
       "      <th>probability</th>\n",
       "      <th>probability_group</th>\n",
       "    </tr>\n",
       "  </thead>\n",
       "  <tbody>\n",
       "    <tr>\n",
       "      <th>0</th>\n",
       "      <td>0.743973</td>\n",
       "      <td>0.25-0.75</td>\n",
       "    </tr>\n",
       "    <tr>\n",
       "      <th>1</th>\n",
       "      <td>0.029738</td>\n",
       "      <td>&lt;0.25</td>\n",
       "    </tr>\n",
       "    <tr>\n",
       "      <th>2</th>\n",
       "      <td>0.977750</td>\n",
       "      <td>&gt;0.75</td>\n",
       "    </tr>\n",
       "    <tr>\n",
       "      <th>3</th>\n",
       "      <td>0.160695</td>\n",
       "      <td>&lt;0.25</td>\n",
       "    </tr>\n",
       "    <tr>\n",
       "      <th>4</th>\n",
       "      <td>0.983688</td>\n",
       "      <td>&gt;0.75</td>\n",
       "    </tr>\n",
       "  </tbody>\n",
       "</table>\n",
       "</div>"
      ],
      "text/plain": [
       "   probability probability_group\n",
       "0     0.743973         0.25-0.75\n",
       "1     0.029738             <0.25\n",
       "2     0.977750             >0.75\n",
       "3     0.160695             <0.25\n",
       "4     0.983688             >0.75"
      ]
     },
     "execution_count": 19,
     "metadata": {},
     "output_type": "execute_result"
    }
   ],
   "source": [
    "def get_probability_group(prob):\n",
    "    if prob < 0.25:\n",
    "        return '<0.25'\n",
    "    elif prob <= 0.75:\n",
    "        return '0.25-0.75'\n",
    "    else:\n",
    "        return '>0.75'\n",
    "    \n",
    "df['probability_group'] = df['probability'].apply(get_probability_group)\n",
    "df.head()"
   ]
  },
  {
   "cell_type": "code",
   "execution_count": 20,
   "id": "f76a61fb",
   "metadata": {
    "scrolled": false
   },
   "outputs": [
    {
     "name": "stdout",
     "output_type": "stream",
     "text": [
      "probability_group\n",
      "0.25-0.75    33\n",
      "<0.25        19\n",
      ">0.75        48\n",
      "dtype: int64\n"
     ]
    },
    {
     "data": {
      "image/png": "[encoded data removed]",
      "text/plain": [
       "<Figure size 432x288 with 1 Axes>"
      ]
     },
     "metadata": {
      "needs_background": "light"
     },
     "output_type": "display_data"
    }
   ],
   "source": [
    "print(df.groupby('probability_group').size())\n",
    "sns.countplot(x='probability_group', data=df, \n",
    "              palette=['darkgreen', 'darkred', 'darkgreen'], \n",
    "              order=['<0.25','0.25-0.75','>0.75'])\n",
    "plt.show()"
   ]
  },
  {
   "cell_type": "markdown",
   "id": "1ed0720e",
   "metadata": {},
   "source": [
    "So 34% of the entries end up with a probability between 0.25 and 0.75. In this group, I really cannot be sure if the classification will work properly, since from 34 cases, 14 were missclassified (41%).\n",
    "\n",
    "On the other hand, the remaining 66% of the entries (18% + 48%) have probabilities either higher than 0.75 or lower than 0.25. This means that the model is relatively sure of what class to assign (0/1). Within this group of entries, 100% have been correctly classified for the train test! "
   ]
  },
  {
   "cell_type": "markdown",
   "id": "8d287a5e",
   "metadata": {},
   "source": [
    "#### 10. Linear regression coefficients"
   ]
  },
  {
   "cell_type": "code",
   "execution_count": 21,
   "id": "0c3a39e2",
   "metadata": {},
   "outputs": [
    {
     "data": {
      "text/plain": [
       "array([[-0.08564686,  1.98462669,  1.07716167]])"
      ]
     },
     "execution_count": 21,
     "metadata": {},
     "output_type": "execute_result"
    }
   ],
   "source": [
    "model.coef_"
   ]
  },
  {
   "cell_type": "code",
   "execution_count": 22,
   "id": "9c9a2883",
   "metadata": {
    "scrolled": true
   },
   "outputs": [
    {
     "data": {
      "text/plain": [
       "array([-1.05450375])"
      ]
     },
     "execution_count": 22,
     "metadata": {},
     "output_type": "execute_result"
    }
   ],
   "source": [
    "model.intercept_"
   ]
  },
  {
   "cell_type": "markdown",
   "id": "eef94b2b",
   "metadata": {},
   "source": [
    "#### 11. Plot logistic regression"
   ]
  },
  {
   "cell_type": "markdown",
   "id": "9d981f94",
   "metadata": {},
   "source": [
    "Add normalised variables to the initial DataFrame in order to be able to make predictions on all data points and add them to the same DataFrame."
   ]
  },
  {
   "cell_type": "code",
   "execution_count": 23,
   "id": "4a0e27d3",
   "metadata": {
    "scrolled": true
   },
   "outputs": [
    {
     "data": {
      "text/html": [
       "<div>\n",
       "<style scoped>\n",
       "    .dataframe tbody tr th:only-of-type {\n",
       "        vertical-align: middle;\n",
       "    }\n",
       "\n",
       "    .dataframe tbody tr th {\n",
       "        vertical-align: top;\n",
       "    }\n",
       "\n",
       "    .dataframe thead th {\n",
       "        text-align: right;\n",
       "    }\n",
       "</style>\n",
       "<table border=\"1\" class=\"dataframe\">\n",
       "  <thead>\n",
       "    <tr style=\"text-align: right;\">\n",
       "      <th></th>\n",
       "      <th>Gender</th>\n",
       "      <th>Age</th>\n",
       "      <th>EstimatedSalary</th>\n",
       "      <th>Purchased</th>\n",
       "      <th>NormGender</th>\n",
       "      <th>NormAge</th>\n",
       "      <th>NormSalary</th>\n",
       "    </tr>\n",
       "  </thead>\n",
       "  <tbody>\n",
       "    <tr>\n",
       "      <th>0</th>\n",
       "      <td>0</td>\n",
       "      <td>19</td>\n",
       "      <td>19000</td>\n",
       "      <td>0</td>\n",
       "      <td>-1.020204</td>\n",
       "      <td>-1.781797</td>\n",
       "      <td>-1.490046</td>\n",
       "    </tr>\n",
       "    <tr>\n",
       "      <th>1</th>\n",
       "      <td>0</td>\n",
       "      <td>35</td>\n",
       "      <td>20000</td>\n",
       "      <td>0</td>\n",
       "      <td>-1.020204</td>\n",
       "      <td>-0.253587</td>\n",
       "      <td>-1.460681</td>\n",
       "    </tr>\n",
       "    <tr>\n",
       "      <th>2</th>\n",
       "      <td>1</td>\n",
       "      <td>26</td>\n",
       "      <td>43000</td>\n",
       "      <td>0</td>\n",
       "      <td>0.980196</td>\n",
       "      <td>-1.113206</td>\n",
       "      <td>-0.785290</td>\n",
       "    </tr>\n",
       "    <tr>\n",
       "      <th>3</th>\n",
       "      <td>1</td>\n",
       "      <td>27</td>\n",
       "      <td>57000</td>\n",
       "      <td>0</td>\n",
       "      <td>0.980196</td>\n",
       "      <td>-1.017692</td>\n",
       "      <td>-0.374182</td>\n",
       "    </tr>\n",
       "    <tr>\n",
       "      <th>4</th>\n",
       "      <td>0</td>\n",
       "      <td>19</td>\n",
       "      <td>76000</td>\n",
       "      <td>0</td>\n",
       "      <td>-1.020204</td>\n",
       "      <td>-1.781797</td>\n",
       "      <td>0.183751</td>\n",
       "    </tr>\n",
       "  </tbody>\n",
       "</table>\n",
       "</div>"
      ],
      "text/plain": [
       "   Gender  Age  EstimatedSalary  Purchased  NormGender   NormAge  NormSalary\n",
       "0       0   19            19000          0   -1.020204 -1.781797   -1.490046\n",
       "1       0   35            20000          0   -1.020204 -0.253587   -1.460681\n",
       "2       1   26            43000          0    0.980196 -1.113206   -0.785290\n",
       "3       1   27            57000          0    0.980196 -1.017692   -0.374182\n",
       "4       0   19            76000          0   -1.020204 -1.781797    0.183751"
      ]
     },
     "execution_count": 23,
     "metadata": {},
     "output_type": "execute_result"
    }
   ],
   "source": [
    "clean_data['NormGender'] = norm_X.T[0]\n",
    "clean_data['NormAge'] = norm_X.T[1]\n",
    "clean_data['NormSalary'] = norm_X.T[2]\n",
    "clean_data.head()"
   ]
  },
  {
   "cell_type": "markdown",
   "id": "8ad42b70",
   "metadata": {},
   "source": [
    "Add columns with class prediction and predicted probability to each row:"
   ]
  },
  {
   "cell_type": "code",
   "execution_count": 24,
   "id": "b4b19d74",
   "metadata": {
    "scrolled": true
   },
   "outputs": [
    {
     "data": {
      "text/html": [
       "<div>\n",
       "<style scoped>\n",
       "    .dataframe tbody tr th:only-of-type {\n",
       "        vertical-align: middle;\n",
       "    }\n",
       "\n",
       "    .dataframe tbody tr th {\n",
       "        vertical-align: top;\n",
       "    }\n",
       "\n",
       "    .dataframe thead th {\n",
       "        text-align: right;\n",
       "    }\n",
       "</style>\n",
       "<table border=\"1\" class=\"dataframe\">\n",
       "  <thead>\n",
       "    <tr style=\"text-align: right;\">\n",
       "      <th></th>\n",
       "      <th>Gender</th>\n",
       "      <th>Age</th>\n",
       "      <th>EstimatedSalary</th>\n",
       "      <th>Purchased</th>\n",
       "      <th>NormGender</th>\n",
       "      <th>NormAge</th>\n",
       "      <th>NormSalary</th>\n",
       "      <th>PredictedProbability</th>\n",
       "      <th>PredictedClass</th>\n",
       "    </tr>\n",
       "  </thead>\n",
       "  <tbody>\n",
       "    <tr>\n",
       "      <th>0</th>\n",
       "      <td>0</td>\n",
       "      <td>19</td>\n",
       "      <td>19000</td>\n",
       "      <td>0</td>\n",
       "      <td>-1.020204</td>\n",
       "      <td>-1.781797</td>\n",
       "      <td>-1.490046</td>\n",
       "      <td>0.002219</td>\n",
       "      <td>0</td>\n",
       "    </tr>\n",
       "    <tr>\n",
       "      <th>1</th>\n",
       "      <td>0</td>\n",
       "      <td>35</td>\n",
       "      <td>20000</td>\n",
       "      <td>0</td>\n",
       "      <td>-1.020204</td>\n",
       "      <td>-0.253587</td>\n",
       "      <td>-1.460681</td>\n",
       "      <td>0.045486</td>\n",
       "      <td>0</td>\n",
       "    </tr>\n",
       "    <tr>\n",
       "      <th>2</th>\n",
       "      <td>1</td>\n",
       "      <td>26</td>\n",
       "      <td>43000</td>\n",
       "      <td>0</td>\n",
       "      <td>0.980196</td>\n",
       "      <td>-1.113206</td>\n",
       "      <td>-0.785290</td>\n",
       "      <td>0.014867</td>\n",
       "      <td>0</td>\n",
       "    </tr>\n",
       "    <tr>\n",
       "      <th>3</th>\n",
       "      <td>1</td>\n",
       "      <td>27</td>\n",
       "      <td>57000</td>\n",
       "      <td>0</td>\n",
       "      <td>0.980196</td>\n",
       "      <td>-1.017692</td>\n",
       "      <td>-0.374182</td>\n",
       "      <td>0.027619</td>\n",
       "      <td>0</td>\n",
       "    </tr>\n",
       "    <tr>\n",
       "      <th>4</th>\n",
       "      <td>0</td>\n",
       "      <td>19</td>\n",
       "      <td>76000</td>\n",
       "      <td>0</td>\n",
       "      <td>-1.020204</td>\n",
       "      <td>-1.781797</td>\n",
       "      <td>0.183751</td>\n",
       "      <td>0.013316</td>\n",
       "      <td>0</td>\n",
       "    </tr>\n",
       "    <tr>\n",
       "      <th>5</th>\n",
       "      <td>0</td>\n",
       "      <td>27</td>\n",
       "      <td>58000</td>\n",
       "      <td>0</td>\n",
       "      <td>-1.020204</td>\n",
       "      <td>-1.017692</td>\n",
       "      <td>-0.344817</td>\n",
       "      <td>0.033625</td>\n",
       "      <td>0</td>\n",
       "    </tr>\n",
       "    <tr>\n",
       "      <th>6</th>\n",
       "      <td>1</td>\n",
       "      <td>27</td>\n",
       "      <td>84000</td>\n",
       "      <td>0</td>\n",
       "      <td>0.980196</td>\n",
       "      <td>-1.017692</td>\n",
       "      <td>0.418669</td>\n",
       "      <td>0.062549</td>\n",
       "      <td>0</td>\n",
       "    </tr>\n",
       "    <tr>\n",
       "      <th>7</th>\n",
       "      <td>1</td>\n",
       "      <td>32</td>\n",
       "      <td>150000</td>\n",
       "      <td>1</td>\n",
       "      <td>0.980196</td>\n",
       "      <td>-0.540127</td>\n",
       "      <td>2.356750</td>\n",
       "      <td>0.581320</td>\n",
       "      <td>1</td>\n",
       "    </tr>\n",
       "    <tr>\n",
       "      <th>8</th>\n",
       "      <td>0</td>\n",
       "      <td>25</td>\n",
       "      <td>33000</td>\n",
       "      <td>0</td>\n",
       "      <td>-1.020204</td>\n",
       "      <td>-1.208719</td>\n",
       "      <td>-1.078938</td>\n",
       "      <td>0.010685</td>\n",
       "      <td>0</td>\n",
       "    </tr>\n",
       "    <tr>\n",
       "      <th>9</th>\n",
       "      <td>1</td>\n",
       "      <td>35</td>\n",
       "      <td>65000</td>\n",
       "      <td>0</td>\n",
       "      <td>0.980196</td>\n",
       "      <td>-0.253587</td>\n",
       "      <td>-0.139263</td>\n",
       "      <td>0.142860</td>\n",
       "      <td>0</td>\n",
       "    </tr>\n",
       "  </tbody>\n",
       "</table>\n",
       "</div>"
      ],
      "text/plain": [
       "   Gender  Age  EstimatedSalary  Purchased  NormGender   NormAge  NormSalary  \\\n",
       "0       0   19            19000          0   -1.020204 -1.781797   -1.490046   \n",
       "1       0   35            20000          0   -1.020204 -0.253587   -1.460681   \n",
       "2       1   26            43000          0    0.980196 -1.113206   -0.785290   \n",
       "3       1   27            57000          0    0.980196 -1.017692   -0.374182   \n",
       "4       0   19            76000          0   -1.020204 -1.781797    0.183751   \n",
       "5       0   27            58000          0   -1.020204 -1.017692   -0.344817   \n",
       "6       1   27            84000          0    0.980196 -1.017692    0.418669   \n",
       "7       1   32           150000          1    0.980196 -0.540127    2.356750   \n",
       "8       0   25            33000          0   -1.020204 -1.208719   -1.078938   \n",
       "9       1   35            65000          0    0.980196 -0.253587   -0.139263   \n",
       "\n",
       "   PredictedProbability  PredictedClass  \n",
       "0              0.002219               0  \n",
       "1              0.045486               0  \n",
       "2              0.014867               0  \n",
       "3              0.027619               0  \n",
       "4              0.013316               0  \n",
       "5              0.033625               0  \n",
       "6              0.062549               0  \n",
       "7              0.581320               1  \n",
       "8              0.010685               0  \n",
       "9              0.142860               0  "
      ]
     },
     "execution_count": 24,
     "metadata": {},
     "output_type": "execute_result"
    }
   ],
   "source": [
    "def probability_row(row):\n",
    "    x = [[row['NormGender'], row['NormAge'], row['NormSalary']]]\n",
    "    return int(round(model.predict_proba(x)[0][1]))\n",
    "\n",
    "def predict_row(row):\n",
    "    x = [[row['NormGender'], row['NormAge'], row['NormSalary']]]\n",
    "    return model.predict_proba(x)[0][1]\n",
    "\n",
    "clean_data['PredictedProbability'] = clean_data.apply(predict_row, axis=1)\n",
    "clean_data['PredictedClass'] = clean_data.apply(probability_row, axis=1)\n",
    "\n",
    "clean_data.head(10)"
   ]
  },
  {
   "cell_type": "markdown",
   "id": "845bd48f",
   "metadata": {},
   "source": [
    "Plot probabilities predicted by the logistic regression against \"Age\" and \"EstimatedSalary\" variables, which are the ones with the most impact. We can kind of imagine the 2 dimensional shape of the sigmoid curve:"
   ]
  },
  {
   "cell_type": "code",
   "execution_count": 25,
   "id": "0a774a46",
   "metadata": {
    "scrolled": true
   },
   "outputs": [
    {
     "data": {
      "image/png": "[encoded data removed]",
      "text/plain": [
       "<Figure size 432x288 with 2 Axes>"
      ]
     },
     "metadata": {
      "needs_background": "light"
     },
     "output_type": "display_data"
    }
   ],
   "source": [
    "clean_data.plot.scatter(x='EstimatedSalary', y='Age', c='PredictedProbability', colormap='RdYlBu', sharex=False)\n",
    "plt.show()"
   ]
  },
  {
   "cell_type": "markdown",
   "id": "b1535412",
   "metadata": {},
   "source": [
    "Plot classes predicted by the logistic regression, and compare to actual classes:"
   ]
  },
  {
   "cell_type": "code",
   "execution_count": 26,
   "id": "dc3270bb",
   "metadata": {},
   "outputs": [
    {
     "data": {
      "image/png": "[encoded data removed]",
      "text/plain": [
       "<Figure size 432x288 with 2 Axes>"
      ]
     },
     "metadata": {
      "needs_background": "light"
     },
     "output_type": "display_data"
    }
   ],
   "source": [
    "clean_data.plot.scatter(x='EstimatedSalary', y='Age', c='PredictedClass', colormap='RdYlBu', sharex=False)\n",
    "plt.title('Classes predicted by Logistic Regression')\n",
    "plt.show()"
   ]
  },
  {
   "cell_type": "code",
   "execution_count": 27,
   "id": "2932a2fa",
   "metadata": {},
   "outputs": [
    {
     "data": {
      "image/png": "[encoded data removed]",
      "text/plain": [
       "<Figure size 432x288 with 2 Axes>"
      ]
     },
     "metadata": {
      "needs_background": "light"
     },
     "output_type": "display_data"
    }
   ],
   "source": [
    "clean_data.plot.scatter(x='EstimatedSalary', y='Age', c='Purchased', colormap='RdYlBu', sharex=False)\n",
    "plt.title('Real classes')\n",
    "plt.show()"
   ]
  },
  {
   "cell_type": "markdown",
   "id": "0d719ed3",
   "metadata": {},
   "source": [
    "A random forest or even a decision tree would probably perform better here, as by looking at the scatter plot there are clearly delimited areas that could be detected by these regressors."
   ]
  }
 ],
 "metadata": {
  "kernelspec": {
   "display_name": "Python 3 (ipykernel)",
   "language": "python",
   "name": "python3"
  },
  "language_info": {
   "codemirror_mode": {
    "name": "ipython",
    "version": 3
   },
   "file_extension": ".py",
   "mimetype": "text/x-python",
   "name": "python",
   "nbconvert_exporter": "python",
   "pygments_lexer": "ipython3",
   "version": "3.9.12"
  }
 },
 "nbformat": 4,
 "nbformat_minor": 5
}
