{
 "cells": [
  {
   "cell_type": "markdown",
   "id": "93607c0b",
   "metadata": {},
   "source": [
    "# Logistic Regression (SUV purchase Use Case)"
   ]
  },
  {
   "cell_type": "markdown",
   "id": "68039329",
   "metadata": {},
   "source": [
    "#### 1. Initial Imports"
   ]
  },
  {
   "cell_type": "code",
   "execution_count": 1,
   "id": "eff95a9b",
   "metadata": {},
   "outputs": [],
   "source": [
    "import pandas as pd\n",
    "import numpy as np\n",
    "%matplotlib inline"
   ]
  },
  {
   "cell_type": "markdown",
   "id": "c8a66d60",
   "metadata": {},
   "source": [
    "#### 2. Load data\n",
    "Load Pandas DataFrame from CSV file"
   ]
  },
  {
   "cell_type": "code",
   "execution_count": 2,
   "id": "79f0a4af",
   "metadata": {},
   "outputs": [],
   "source": [
    "suv_data = pd.read_csv('suv_data.csv')"
   ]
  },
  {
   "cell_type": "markdown",
   "id": "76850c37",
   "metadata": {},
   "source": [
    "#### 3. Initial data exploration"
   ]
  },
  {
   "cell_type": "markdown",
   "id": "a8c89531",
   "metadata": {},
   "source": [
    "Use DataFrame info method to see column names, data types and null value counts:"
   ]
  },
  {
   "cell_type": "code",
   "execution_count": 3,
   "id": "b26faf55",
   "metadata": {
    "scrolled": false
   },
   "outputs": [
    {
     "name": "stdout",
     "output_type": "stream",
     "text": [
      "<class 'pandas.core.frame.DataFrame'>\n",
      "RangeIndex: 400 entries, 0 to 399\n",
      "Data columns (total 5 columns):\n",
      " #   Column           Non-Null Count  Dtype \n",
      "---  ------           --------------  ----- \n",
      " 0   User ID          400 non-null    int64 \n",
      " 1   Gender           400 non-null    object\n",
      " 2   Age              400 non-null    int64 \n",
      " 3   EstimatedSalary  400 non-null    int64 \n",
      " 4   Purchased        400 non-null    int64 \n",
      "dtypes: int64(4), object(1)\n",
      "memory usage: 15.8+ KB\n"
     ]
    }
   ],
   "source": [
    "suv_data.info()"
   ]
  },
  {
   "cell_type": "markdown",
   "id": "4b57a00f",
   "metadata": {},
   "source": [
    "Use DataFrame head method to see first 10 rows of DataFrame:"
   ]
  },
  {
   "cell_type": "code",
   "execution_count": 4,
   "id": "d30cb891",
   "metadata": {
    "scrolled": true
   },
   "outputs": [
    {
     "data": {
      "text/html": [
       "<div>\n",
       "<style scoped>\n",
       "    .dataframe tbody tr th:only-of-type {\n",
       "        vertical-align: middle;\n",
       "    }\n",
       "\n",
       "    .dataframe tbody tr th {\n",
       "        vertical-align: top;\n",
       "    }\n",
       "\n",
       "    .dataframe thead th {\n",
       "        text-align: right;\n",
       "    }\n",
       "</style>\n",
       "<table border=\"1\" class=\"dataframe\">\n",
       "  <thead>\n",
       "    <tr style=\"text-align: right;\">\n",
       "      <th></th>\n",
       "      <th>User ID</th>\n",
       "      <th>Gender</th>\n",
       "      <th>Age</th>\n",
       "      <th>EstimatedSalary</th>\n",
       "      <th>Purchased</th>\n",
       "    </tr>\n",
       "  </thead>\n",
       "  <tbody>\n",
       "    <tr>\n",
       "      <th>0</th>\n",
       "      <td>15624510</td>\n",
       "      <td>Male</td>\n",
       "      <td>19</td>\n",
       "      <td>19000</td>\n",
       "      <td>0</td>\n",
       "    </tr>\n",
       "    <tr>\n",
       "      <th>1</th>\n",
       "      <td>15810944</td>\n",
       "      <td>Male</td>\n",
       "      <td>35</td>\n",
       "      <td>20000</td>\n",
       "      <td>0</td>\n",
       "    </tr>\n",
       "    <tr>\n",
       "      <th>2</th>\n",
       "      <td>15668575</td>\n",
       "      <td>Female</td>\n",
       "      <td>26</td>\n",
       "      <td>43000</td>\n",
       "      <td>0</td>\n",
       "    </tr>\n",
       "    <tr>\n",
       "      <th>3</th>\n",
       "      <td>15603246</td>\n",
       "      <td>Female</td>\n",
       "      <td>27</td>\n",
       "      <td>57000</td>\n",
       "      <td>0</td>\n",
       "    </tr>\n",
       "    <tr>\n",
       "      <th>4</th>\n",
       "      <td>15804002</td>\n",
       "      <td>Male</td>\n",
       "      <td>19</td>\n",
       "      <td>76000</td>\n",
       "      <td>0</td>\n",
       "    </tr>\n",
       "    <tr>\n",
       "      <th>5</th>\n",
       "      <td>15728773</td>\n",
       "      <td>Male</td>\n",
       "      <td>27</td>\n",
       "      <td>58000</td>\n",
       "      <td>0</td>\n",
       "    </tr>\n",
       "    <tr>\n",
       "      <th>6</th>\n",
       "      <td>15598044</td>\n",
       "      <td>Female</td>\n",
       "      <td>27</td>\n",
       "      <td>84000</td>\n",
       "      <td>0</td>\n",
       "    </tr>\n",
       "    <tr>\n",
       "      <th>7</th>\n",
       "      <td>15694829</td>\n",
       "      <td>Female</td>\n",
       "      <td>32</td>\n",
       "      <td>150000</td>\n",
       "      <td>1</td>\n",
       "    </tr>\n",
       "    <tr>\n",
       "      <th>8</th>\n",
       "      <td>15600575</td>\n",
       "      <td>Male</td>\n",
       "      <td>25</td>\n",
       "      <td>33000</td>\n",
       "      <td>0</td>\n",
       "    </tr>\n",
       "    <tr>\n",
       "      <th>9</th>\n",
       "      <td>15727311</td>\n",
       "      <td>Female</td>\n",
       "      <td>35</td>\n",
       "      <td>65000</td>\n",
       "      <td>0</td>\n",
       "    </tr>\n",
       "  </tbody>\n",
       "</table>\n",
       "</div>"
      ],
      "text/plain": [
       "    User ID  Gender  Age  EstimatedSalary  Purchased\n",
       "0  15624510    Male   19            19000          0\n",
       "1  15810944    Male   35            20000          0\n",
       "2  15668575  Female   26            43000          0\n",
       "3  15603246  Female   27            57000          0\n",
       "4  15804002    Male   19            76000          0\n",
       "5  15728773    Male   27            58000          0\n",
       "6  15598044  Female   27            84000          0\n",
       "7  15694829  Female   32           150000          1\n",
       "8  15600575    Male   25            33000          0\n",
       "9  15727311  Female   35            65000          0"
      ]
     },
     "execution_count": 4,
     "metadata": {},
     "output_type": "execute_result"
    }
   ],
   "source": [
    "suv_data.head(10)"
   ]
  },
  {
   "cell_type": "markdown",
   "id": "b2eed63e",
   "metadata": {},
   "source": [
    "Use DataFrame describe method to see descriptive statistical values for numeric columns:"
   ]
  },
  {
   "cell_type": "code",
   "execution_count": 5,
   "id": "fcb59d5a",
   "metadata": {
    "scrolled": false
   },
   "outputs": [
    {
     "data": {
      "text/html": [
       "<div>\n",
       "<style scoped>\n",
       "    .dataframe tbody tr th:only-of-type {\n",
       "        vertical-align: middle;\n",
       "    }\n",
       "\n",
       "    .dataframe tbody tr th {\n",
       "        vertical-align: top;\n",
       "    }\n",
       "\n",
       "    .dataframe thead th {\n",
       "        text-align: right;\n",
       "    }\n",
       "</style>\n",
       "<table border=\"1\" class=\"dataframe\">\n",
       "  <thead>\n",
       "    <tr style=\"text-align: right;\">\n",
       "      <th></th>\n",
       "      <th>User ID</th>\n",
       "      <th>Age</th>\n",
       "      <th>EstimatedSalary</th>\n",
       "      <th>Purchased</th>\n",
       "    </tr>\n",
       "  </thead>\n",
       "  <tbody>\n",
       "    <tr>\n",
       "      <th>count</th>\n",
       "      <td>4.000000e+02</td>\n",
       "      <td>400.000000</td>\n",
       "      <td>400.000000</td>\n",
       "      <td>400.000000</td>\n",
       "    </tr>\n",
       "    <tr>\n",
       "      <th>mean</th>\n",
       "      <td>1.569154e+07</td>\n",
       "      <td>37.655000</td>\n",
       "      <td>69742.500000</td>\n",
       "      <td>0.357500</td>\n",
       "    </tr>\n",
       "    <tr>\n",
       "      <th>std</th>\n",
       "      <td>7.165832e+04</td>\n",
       "      <td>10.482877</td>\n",
       "      <td>34096.960282</td>\n",
       "      <td>0.479864</td>\n",
       "    </tr>\n",
       "    <tr>\n",
       "      <th>min</th>\n",
       "      <td>1.556669e+07</td>\n",
       "      <td>18.000000</td>\n",
       "      <td>15000.000000</td>\n",
       "      <td>0.000000</td>\n",
       "    </tr>\n",
       "    <tr>\n",
       "      <th>25%</th>\n",
       "      <td>1.562676e+07</td>\n",
       "      <td>29.750000</td>\n",
       "      <td>43000.000000</td>\n",
       "      <td>0.000000</td>\n",
       "    </tr>\n",
       "    <tr>\n",
       "      <th>50%</th>\n",
       "      <td>1.569434e+07</td>\n",
       "      <td>37.000000</td>\n",
       "      <td>70000.000000</td>\n",
       "      <td>0.000000</td>\n",
       "    </tr>\n",
       "    <tr>\n",
       "      <th>75%</th>\n",
       "      <td>1.575036e+07</td>\n",
       "      <td>46.000000</td>\n",
       "      <td>88000.000000</td>\n",
       "      <td>1.000000</td>\n",
       "    </tr>\n",
       "    <tr>\n",
       "      <th>max</th>\n",
       "      <td>1.581524e+07</td>\n",
       "      <td>60.000000</td>\n",
       "      <td>150000.000000</td>\n",
       "      <td>1.000000</td>\n",
       "    </tr>\n",
       "  </tbody>\n",
       "</table>\n",
       "</div>"
      ],
      "text/plain": [
       "            User ID         Age  EstimatedSalary   Purchased\n",
       "count  4.000000e+02  400.000000       400.000000  400.000000\n",
       "mean   1.569154e+07   37.655000     69742.500000    0.357500\n",
       "std    7.165832e+04   10.482877     34096.960282    0.479864\n",
       "min    1.556669e+07   18.000000     15000.000000    0.000000\n",
       "25%    1.562676e+07   29.750000     43000.000000    0.000000\n",
       "50%    1.569434e+07   37.000000     70000.000000    0.000000\n",
       "75%    1.575036e+07   46.000000     88000.000000    1.000000\n",
       "max    1.581524e+07   60.000000    150000.000000    1.000000"
      ]
     },
     "execution_count": 5,
     "metadata": {},
     "output_type": "execute_result"
    }
   ],
   "source": [
    "suv_data.describe()"
   ]
  },
  {
   "cell_type": "markdown",
   "id": "bb2eeac4",
   "metadata": {},
   "source": [
    "#### 4. Data exploration with visualisations"
   ]
  },
  {
   "cell_type": "markdown",
   "id": "cdff1009",
   "metadata": {},
   "source": [
    "Imports for visualisation:"
   ]
  },
  {
   "cell_type": "code",
   "execution_count": 6,
   "id": "80166461",
   "metadata": {},
   "outputs": [],
   "source": [
    "from matplotlib import pyplot as plt\n",
    "import seaborn as sns"
   ]
  },
  {
   "cell_type": "markdown",
   "id": "31cafc41",
   "metadata": {},
   "source": [
    "Create visualisation for each variable:\n",
    " - For qualitative variables (columns): plot count of each possible value - use seaborn countplot function\n",
    " - For quantitative variables (columns): plot histogram - use DataFrame plot.hist method"
   ]
  },
  {
   "cell_type": "code",
   "execution_count": 7,
   "id": "8eaa7b06",
   "metadata": {
    "scrolled": false
   },
   "outputs": [
    {
     "data": {
      "image/png": "[encoded data removed]",
      "text/plain": [
       "<Figure size 432x288 with 1 Axes>"
      ]
     },
     "metadata": {
      "needs_background": "light"
     },
     "output_type": "display_data"
    }
   ],
   "source": [
    "# Gender (qualitative)\n",
    "sns.countplot(x='Gender', data=suv_data, \n",
    "              palette=['#789DFF',\"#FF78D8\"])\n",
    "plt.show()"
   ]
  },
  {
   "cell_type": "code",
   "execution_count": 8,
   "id": "99384d68",
   "metadata": {
    "scrolled": true
   },
   "outputs": [
    {
     "data": {
      "image/png": "[encoded data removed]",
      "text/plain": [
       "<Figure size 432x288 with 1 Axes>"
      ]
     },
     "metadata": {
      "needs_background": "light"
     },
     "output_type": "display_data"
    }
   ],
   "source": [
    "# Age (quantitative)\n",
    "suv_data['Age'].plot.hist(bins=10, color='#353535')\n",
    "plt.show()"
   ]
  },
  {
   "cell_type": "code",
   "execution_count": 9,
   "id": "2703312f",
   "metadata": {
    "scrolled": true
   },
   "outputs": [
    {
     "data": {
      "image/png": "[encoded data removed]",
      "text/plain": [
       "<Figure size 432x288 with 1 Axes>"
      ]
     },
     "metadata": {
      "needs_background": "light"
     },
     "output_type": "display_data"
    }
   ],
   "source": [
    "# EstimatedSalary (quantitative)\n",
    "suv_data['EstimatedSalary'].plot.hist(bins=20, color=\"grey\")\n",
    "plt.show()"
   ]
  },
  {
   "cell_type": "code",
   "execution_count": 10,
   "id": "54efae37",
   "metadata": {
    "scrolled": false
   },
   "outputs": [
    {
     "data": {
      "text/plain": [
       "<AxesSubplot:xlabel='Purchased', ylabel='count'>"
      ]
     },
     "execution_count": 10,
     "metadata": {},
     "output_type": "execute_result"
    },
    {
     "data": {
      "image/png": "[encoded data removed]",
      "text/plain": [
       "<Figure size 432x288 with 1 Axes>"
      ]
     },
     "metadata": {
      "needs_background": "light"
     },
     "output_type": "display_data"
    }
   ],
   "source": [
    "# Purchased (qualitative)\n",
    "sns.countplot(x='Purchased', data=suv_data, \n",
    "              palette=['#DA3434','#43DA34'])"
   ]
  },
  {
   "cell_type": "markdown",
   "id": "3b332cfe",
   "metadata": {},
   "source": [
    "#### 5. Dependent and independent variables\n",
    "\n",
    "At this point, I choose 'Age', 'Gender' and 'EstimatedSalary' as the *independent variables*; and to set 'Purchased' as the *dependent variable*.\n",
    "\n",
    "This means that the logistic regression will try to predict whether a client will purchase an SUV car (1) or not (0) depending on the clients age, gender and salary; or a subset of these."
   ]
  },
  {
   "cell_type": "markdown",
   "id": "b98ae0d7",
   "metadata": {},
   "source": [
    "#### 6. Check for correlations between the independent variables and the dependent variable"
   ]
  },
  {
   "cell_type": "markdown",
   "id": "e003624f",
   "metadata": {},
   "source": [
    "##### 6.1. Correlation between Gender and Purchase variables:\n",
    "\n",
    "Plot chart with number of males who purchased/did not purchase an SUV, and number of females who purchased/did not purchase an SUV - using seaborn countplot function."
   ]
  },
  {
   "cell_type": "code",
   "execution_count": 11,
   "id": "0446d853",
   "metadata": {},
   "outputs": [
    {
     "data": {
      "image/png": "[encoded data removed]",
      "text/plain": [
       "<Figure size 432x288 with 1 Axes>"
      ]
     },
     "metadata": {
      "needs_background": "light"
     },
     "output_type": "display_data"
    }
   ],
   "source": [
    "sns.countplot(x='Purchased', hue='Gender', data=suv_data, \n",
    "              palette=['#789DFF',\"#FF78D8\"])\n",
    "plt.show()"
   ]
  },
  {
   "cell_type": "markdown",
   "id": "8d437b10",
   "metadata": {},
   "source": [
    "There are slightly less females within the non-buyers, whereas there are slightly more females within the buyers. Thus, being a female slightly increases the probability of the client purchasing a SUV."
   ]
  },
  {
   "cell_type": "markdown",
   "id": "ee7a9e69",
   "metadata": {},
   "source": [
    "##### 6.2. Correlation between Age and Purchase variables:\n",
    "\n",
    "In order to plot the correlation, firstly I group the age variable in intervals, creating a new \"AgeGroup\" column in the DataFrame. In order to create the intervals, I use the previously generated age histogram chart as a refference."
   ]
  },
  {
   "cell_type": "code",
   "execution_count": 12,
   "id": "38879ef0",
   "metadata": {},
   "outputs": [
    {
     "data": {
      "text/html": [
       "<div>\n",
       "<style scoped>\n",
       "    .dataframe tbody tr th:only-of-type {\n",
       "        vertical-align: middle;\n",
       "    }\n",
       "\n",
       "    .dataframe tbody tr th {\n",
       "        vertical-align: top;\n",
       "    }\n",
       "\n",
       "    .dataframe thead th {\n",
       "        text-align: right;\n",
       "    }\n",
       "</style>\n",
       "<table border=\"1\" class=\"dataframe\">\n",
       "  <thead>\n",
       "    <tr style=\"text-align: right;\">\n",
       "      <th></th>\n",
       "      <th>User ID</th>\n",
       "      <th>Gender</th>\n",
       "      <th>Age</th>\n",
       "      <th>EstimatedSalary</th>\n",
       "      <th>Purchased</th>\n",
       "      <th>AgeGroup</th>\n",
       "    </tr>\n",
       "  </thead>\n",
       "  <tbody>\n",
       "    <tr>\n",
       "      <th>0</th>\n",
       "      <td>15624510</td>\n",
       "      <td>Male</td>\n",
       "      <td>19</td>\n",
       "      <td>19000</td>\n",
       "      <td>0</td>\n",
       "      <td>18-30</td>\n",
       "    </tr>\n",
       "    <tr>\n",
       "      <th>1</th>\n",
       "      <td>15810944</td>\n",
       "      <td>Male</td>\n",
       "      <td>35</td>\n",
       "      <td>20000</td>\n",
       "      <td>0</td>\n",
       "      <td>31-40</td>\n",
       "    </tr>\n",
       "    <tr>\n",
       "      <th>2</th>\n",
       "      <td>15668575</td>\n",
       "      <td>Female</td>\n",
       "      <td>26</td>\n",
       "      <td>43000</td>\n",
       "      <td>0</td>\n",
       "      <td>18-30</td>\n",
       "    </tr>\n",
       "    <tr>\n",
       "      <th>3</th>\n",
       "      <td>15603246</td>\n",
       "      <td>Female</td>\n",
       "      <td>27</td>\n",
       "      <td>57000</td>\n",
       "      <td>0</td>\n",
       "      <td>18-30</td>\n",
       "    </tr>\n",
       "    <tr>\n",
       "      <th>4</th>\n",
       "      <td>15804002</td>\n",
       "      <td>Male</td>\n",
       "      <td>19</td>\n",
       "      <td>76000</td>\n",
       "      <td>0</td>\n",
       "      <td>18-30</td>\n",
       "    </tr>\n",
       "  </tbody>\n",
       "</table>\n",
       "</div>"
      ],
      "text/plain": [
       "    User ID  Gender  Age  EstimatedSalary  Purchased AgeGroup\n",
       "0  15624510    Male   19            19000          0    18-30\n",
       "1  15810944    Male   35            20000          0    31-40\n",
       "2  15668575  Female   26            43000          0    18-30\n",
       "3  15603246  Female   27            57000          0    18-30\n",
       "4  15804002    Male   19            76000          0    18-30"
      ]
     },
     "execution_count": 12,
     "metadata": {},
     "output_type": "execute_result"
    }
   ],
   "source": [
    "def apply_age_group(age):\n",
    "    if age < 18:\n",
    "        return '<18'\n",
    "    elif age <= 30:\n",
    "        return '18-30'\n",
    "    elif age <= 40:\n",
    "        return '31-40'\n",
    "    elif age <= 50:\n",
    "        return '40-50'\n",
    "    else:\n",
    "        return '>50'\n",
    "\n",
    "suv_data['AgeGroup'] = suv_data['Age'].apply(apply_age_group)\n",
    "\n",
    "suv_data.head()"
   ]
  },
  {
   "cell_type": "markdown",
   "id": "2bf6dc75",
   "metadata": {},
   "source": [
    "Plot chart with count of all combinations of the Purchase variable and the AgeGroup variable - using seaborn countplot function."
   ]
  },
  {
   "cell_type": "code",
   "execution_count": 13,
   "id": "72d4b2f5",
   "metadata": {
    "scrolled": false
   },
   "outputs": [
    {
     "data": {
      "image/png": "[encoded data removed]",
      "text/plain": [
       "<Figure size 432x288 with 1 Axes>"
      ]
     },
     "metadata": {
      "needs_background": "light"
     },
     "output_type": "display_data"
    }
   ],
   "source": [
    "sns.countplot(x='Purchased', hue='AgeGroup', data=suv_data)\n",
    "plt.show()"
   ]
  },
  {
   "cell_type": "markdown",
   "id": "3becec24",
   "metadata": {},
   "source": [
    "Clear pattern here: as client's age increases, the probability of them buying an SUV increases sharply."
   ]
  },
  {
   "cell_type": "markdown",
   "id": "845a75b2",
   "metadata": {},
   "source": [
    "##### 6.3. Correlation between EstimatedSalary and Purchase variables:\n",
    "\n",
    "In order to plot the correlation, firstly I group the EstimatedSalary variable in intervals, creating a new \"SalaryGroup\" column in the DataFrame. In order to create the intervals, I use the previously generated salary histogram chart as a refference."
   ]
  },
  {
   "cell_type": "code",
   "execution_count": 14,
   "id": "352001a8",
   "metadata": {},
   "outputs": [
    {
     "data": {
      "text/html": [
       "<div>\n",
       "<style scoped>\n",
       "    .dataframe tbody tr th:only-of-type {\n",
       "        vertical-align: middle;\n",
       "    }\n",
       "\n",
       "    .dataframe tbody tr th {\n",
       "        vertical-align: top;\n",
       "    }\n",
       "\n",
       "    .dataframe thead th {\n",
       "        text-align: right;\n",
       "    }\n",
       "</style>\n",
       "<table border=\"1\" class=\"dataframe\">\n",
       "  <thead>\n",
       "    <tr style=\"text-align: right;\">\n",
       "      <th></th>\n",
       "      <th>User ID</th>\n",
       "      <th>Gender</th>\n",
       "      <th>Age</th>\n",
       "      <th>EstimatedSalary</th>\n",
       "      <th>Purchased</th>\n",
       "      <th>AgeGroup</th>\n",
       "      <th>SalaryGroup</th>\n",
       "    </tr>\n",
       "  </thead>\n",
       "  <tbody>\n",
       "    <tr>\n",
       "      <th>0</th>\n",
       "      <td>15624510</td>\n",
       "      <td>Male</td>\n",
       "      <td>19</td>\n",
       "      <td>19000</td>\n",
       "      <td>0</td>\n",
       "      <td>18-30</td>\n",
       "      <td>&lt;30k</td>\n",
       "    </tr>\n",
       "    <tr>\n",
       "      <th>1</th>\n",
       "      <td>15810944</td>\n",
       "      <td>Male</td>\n",
       "      <td>35</td>\n",
       "      <td>20000</td>\n",
       "      <td>0</td>\n",
       "      <td>31-40</td>\n",
       "      <td>&lt;30k</td>\n",
       "    </tr>\n",
       "    <tr>\n",
       "      <th>2</th>\n",
       "      <td>15668575</td>\n",
       "      <td>Female</td>\n",
       "      <td>26</td>\n",
       "      <td>43000</td>\n",
       "      <td>0</td>\n",
       "      <td>18-30</td>\n",
       "      <td>30-60k</td>\n",
       "    </tr>\n",
       "    <tr>\n",
       "      <th>3</th>\n",
       "      <td>15603246</td>\n",
       "      <td>Female</td>\n",
       "      <td>27</td>\n",
       "      <td>57000</td>\n",
       "      <td>0</td>\n",
       "      <td>18-30</td>\n",
       "      <td>30-60k</td>\n",
       "    </tr>\n",
       "    <tr>\n",
       "      <th>4</th>\n",
       "      <td>15804002</td>\n",
       "      <td>Male</td>\n",
       "      <td>19</td>\n",
       "      <td>76000</td>\n",
       "      <td>0</td>\n",
       "      <td>18-30</td>\n",
       "      <td>60-90k</td>\n",
       "    </tr>\n",
       "  </tbody>\n",
       "</table>\n",
       "</div>"
      ],
      "text/plain": [
       "    User ID  Gender  Age  EstimatedSalary  Purchased AgeGroup SalaryGroup\n",
       "0  15624510    Male   19            19000          0    18-30        <30k\n",
       "1  15810944    Male   35            20000          0    31-40        <30k\n",
       "2  15668575  Female   26            43000          0    18-30      30-60k\n",
       "3  15603246  Female   27            57000          0    18-30      30-60k\n",
       "4  15804002    Male   19            76000          0    18-30      60-90k"
      ]
     },
     "execution_count": 14,
     "metadata": {},
     "output_type": "execute_result"
    }
   ],
   "source": [
    "def apply_salary_group(salary):\n",
    "    if salary < 30000:\n",
    "        return '<30k'\n",
    "    elif salary <= 60000:\n",
    "        return '30-60k'\n",
    "    elif salary <= 90000:\n",
    "        return '60-90k'\n",
    "    elif salary <= 115000:\n",
    "        return '90-115k'\n",
    "    else:\n",
    "        return '>115k'\n",
    "\n",
    "suv_data['SalaryGroup'] = suv_data['EstimatedSalary'].apply(apply_salary_group)\n",
    "suv_data.head()"
   ]
  },
  {
   "cell_type": "markdown",
   "id": "670222aa",
   "metadata": {},
   "source": [
    "Plot chart with count of all combinations of the Purchase variable and the SalaryGroup variable - using seaborn countplot function."
   ]
  },
  {
   "cell_type": "code",
   "execution_count": 15,
   "id": "835041c7",
   "metadata": {
    "scrolled": true
   },
   "outputs": [
    {
     "data": {
      "image/png": "[encoded data removed]",
      "text/plain": [
       "<Figure size 432x288 with 1 Axes>"
      ]
     },
     "metadata": {
      "needs_background": "light"
     },
     "output_type": "display_data"
    }
   ],
   "source": [
    "sns.countplot(x='Purchased', data=suv_data, hue='SalaryGroup',\n",
    "              hue_order=['<30k', '30-60k', '60-90k', '90-115k', '>115k'])\n",
    "plt.show()"
   ]
  },
  {
   "cell_type": "markdown",
   "id": "45b7b439",
   "metadata": {},
   "source": [
    "#### 7. Build the independent and dependent variable arrays"
   ]
  },
  {
   "cell_type": "markdown",
   "id": "0180e365",
   "metadata": {},
   "source": [
    "Remember the structure of the DataFrame:"
   ]
  },
  {
   "cell_type": "code",
   "execution_count": 16,
   "id": "b131ec8d",
   "metadata": {},
   "outputs": [
    {
     "data": {
      "text/html": [
       "<div>\n",
       "<style scoped>\n",
       "    .dataframe tbody tr th:only-of-type {\n",
       "        vertical-align: middle;\n",
       "    }\n",
       "\n",
       "    .dataframe tbody tr th {\n",
       "        vertical-align: top;\n",
       "    }\n",
       "\n",
       "    .dataframe thead th {\n",
       "        text-align: right;\n",
       "    }\n",
       "</style>\n",
       "<table border=\"1\" class=\"dataframe\">\n",
       "  <thead>\n",
       "    <tr style=\"text-align: right;\">\n",
       "      <th></th>\n",
       "      <th>User ID</th>\n",
       "      <th>Gender</th>\n",
       "      <th>Age</th>\n",
       "      <th>EstimatedSalary</th>\n",
       "      <th>Purchased</th>\n",
       "      <th>AgeGroup</th>\n",
       "      <th>SalaryGroup</th>\n",
       "    </tr>\n",
       "  </thead>\n",
       "  <tbody>\n",
       "    <tr>\n",
       "      <th>0</th>\n",
       "      <td>15624510</td>\n",
       "      <td>Male</td>\n",
       "      <td>19</td>\n",
       "      <td>19000</td>\n",
       "      <td>0</td>\n",
       "      <td>18-30</td>\n",
       "      <td>&lt;30k</td>\n",
       "    </tr>\n",
       "    <tr>\n",
       "      <th>1</th>\n",
       "      <td>15810944</td>\n",
       "      <td>Male</td>\n",
       "      <td>35</td>\n",
       "      <td>20000</td>\n",
       "      <td>0</td>\n",
       "      <td>31-40</td>\n",
       "      <td>&lt;30k</td>\n",
       "    </tr>\n",
       "    <tr>\n",
       "      <th>2</th>\n",
       "      <td>15668575</td>\n",
       "      <td>Female</td>\n",
       "      <td>26</td>\n",
       "      <td>43000</td>\n",
       "      <td>0</td>\n",
       "      <td>18-30</td>\n",
       "      <td>30-60k</td>\n",
       "    </tr>\n",
       "    <tr>\n",
       "      <th>3</th>\n",
       "      <td>15603246</td>\n",
       "      <td>Female</td>\n",
       "      <td>27</td>\n",
       "      <td>57000</td>\n",
       "      <td>0</td>\n",
       "      <td>18-30</td>\n",
       "      <td>30-60k</td>\n",
       "    </tr>\n",
       "    <tr>\n",
       "      <th>4</th>\n",
       "      <td>15804002</td>\n",
       "      <td>Male</td>\n",
       "      <td>19</td>\n",
       "      <td>76000</td>\n",
       "      <td>0</td>\n",
       "      <td>18-30</td>\n",
       "      <td>60-90k</td>\n",
       "    </tr>\n",
       "  </tbody>\n",
       "</table>\n",
       "</div>"
      ],
      "text/plain": [
       "    User ID  Gender  Age  EstimatedSalary  Purchased AgeGroup SalaryGroup\n",
       "0  15624510    Male   19            19000          0    18-30        <30k\n",
       "1  15810944    Male   35            20000          0    31-40        <30k\n",
       "2  15668575  Female   26            43000          0    18-30      30-60k\n",
       "3  15603246  Female   27            57000          0    18-30      30-60k\n",
       "4  15804002    Male   19            76000          0    18-30      60-90k"
      ]
     },
     "execution_count": 16,
     "metadata": {},
     "output_type": "execute_result"
    }
   ],
   "source": [
    "suv_data.head()"
   ]
  },
  {
   "cell_type": "markdown",
   "id": "5be01c23",
   "metadata": {},
   "source": [
    "I will not need the group columns I have created, neither the User ID column:"
   ]
  },
  {
   "cell_type": "code",
   "execution_count": 17,
   "id": "9456b999",
   "metadata": {
    "scrolled": false
   },
   "outputs": [
    {
     "data": {
      "text/html": [
       "<div>\n",
       "<style scoped>\n",
       "    .dataframe tbody tr th:only-of-type {\n",
       "        vertical-align: middle;\n",
       "    }\n",
       "\n",
       "    .dataframe tbody tr th {\n",
       "        vertical-align: top;\n",
       "    }\n",
       "\n",
       "    .dataframe thead th {\n",
       "        text-align: right;\n",
       "    }\n",
       "</style>\n",
       "<table border=\"1\" class=\"dataframe\">\n",
       "  <thead>\n",
       "    <tr style=\"text-align: right;\">\n",
       "      <th></th>\n",
       "      <th>Gender</th>\n",
       "      <th>Age</th>\n",
       "      <th>EstimatedSalary</th>\n",
       "      <th>Purchased</th>\n",
       "    </tr>\n",
       "  </thead>\n",
       "  <tbody>\n",
       "    <tr>\n",
       "      <th>0</th>\n",
       "      <td>Male</td>\n",
       "      <td>19</td>\n",
       "      <td>19000</td>\n",
       "      <td>0</td>\n",
       "    </tr>\n",
       "    <tr>\n",
       "      <th>1</th>\n",
       "      <td>Male</td>\n",
       "      <td>35</td>\n",
       "      <td>20000</td>\n",
       "      <td>0</td>\n",
       "    </tr>\n",
       "    <tr>\n",
       "      <th>2</th>\n",
       "      <td>Female</td>\n",
       "      <td>26</td>\n",
       "      <td>43000</td>\n",
       "      <td>0</td>\n",
       "    </tr>\n",
       "    <tr>\n",
       "      <th>3</th>\n",
       "      <td>Female</td>\n",
       "      <td>27</td>\n",
       "      <td>57000</td>\n",
       "      <td>0</td>\n",
       "    </tr>\n",
       "    <tr>\n",
       "      <th>4</th>\n",
       "      <td>Male</td>\n",
       "      <td>19</td>\n",
       "      <td>76000</td>\n",
       "      <td>0</td>\n",
       "    </tr>\n",
       "  </tbody>\n",
       "</table>\n",
       "</div>"
      ],
      "text/plain": [
       "   Gender  Age  EstimatedSalary  Purchased\n",
       "0    Male   19            19000          0\n",
       "1    Male   35            20000          0\n",
       "2  Female   26            43000          0\n",
       "3  Female   27            57000          0\n",
       "4    Male   19            76000          0"
      ]
     },
     "execution_count": 17,
     "metadata": {},
     "output_type": "execute_result"
    }
   ],
   "source": [
    "clean_data = suv_data.drop(['AgeGroup', 'SalaryGroup', 'User ID'], axis=1)\n",
    "clean_data.head()"
   ]
  },
  {
   "cell_type": "markdown",
   "id": "8db73e47",
   "metadata": {},
   "source": [
    "Now I need to make 'Gender' column a numerical column (1 for Female, 0 for Male):"
   ]
  },
  {
   "cell_type": "code",
   "execution_count": 18,
   "id": "319870c4",
   "metadata": {
    "scrolled": true
   },
   "outputs": [
    {
     "data": {
      "text/html": [
       "<div>\n",
       "<style scoped>\n",
       "    .dataframe tbody tr th:only-of-type {\n",
       "        vertical-align: middle;\n",
       "    }\n",
       "\n",
       "    .dataframe tbody tr th {\n",
       "        vertical-align: top;\n",
       "    }\n",
       "\n",
       "    .dataframe thead th {\n",
       "        text-align: right;\n",
       "    }\n",
       "</style>\n",
       "<table border=\"1\" class=\"dataframe\">\n",
       "  <thead>\n",
       "    <tr style=\"text-align: right;\">\n",
       "      <th></th>\n",
       "      <th>Gender</th>\n",
       "      <th>Age</th>\n",
       "      <th>EstimatedSalary</th>\n",
       "      <th>Purchased</th>\n",
       "    </tr>\n",
       "  </thead>\n",
       "  <tbody>\n",
       "    <tr>\n",
       "      <th>0</th>\n",
       "      <td>0</td>\n",
       "      <td>19</td>\n",
       "      <td>19000</td>\n",
       "      <td>0</td>\n",
       "    </tr>\n",
       "    <tr>\n",
       "      <th>1</th>\n",
       "      <td>0</td>\n",
       "      <td>35</td>\n",
       "      <td>20000</td>\n",
       "      <td>0</td>\n",
       "    </tr>\n",
       "    <tr>\n",
       "      <th>2</th>\n",
       "      <td>1</td>\n",
       "      <td>26</td>\n",
       "      <td>43000</td>\n",
       "      <td>0</td>\n",
       "    </tr>\n",
       "    <tr>\n",
       "      <th>3</th>\n",
       "      <td>1</td>\n",
       "      <td>27</td>\n",
       "      <td>57000</td>\n",
       "      <td>0</td>\n",
       "    </tr>\n",
       "    <tr>\n",
       "      <th>4</th>\n",
       "      <td>0</td>\n",
       "      <td>19</td>\n",
       "      <td>76000</td>\n",
       "      <td>0</td>\n",
       "    </tr>\n",
       "  </tbody>\n",
       "</table>\n",
       "</div>"
      ],
      "text/plain": [
       "   Gender  Age  EstimatedSalary  Purchased\n",
       "0       0   19            19000          0\n",
       "1       0   35            20000          0\n",
       "2       1   26            43000          0\n",
       "3       1   27            57000          0\n",
       "4       0   19            76000          0"
      ]
     },
     "execution_count": 18,
     "metadata": {},
     "output_type": "execute_result"
    }
   ],
   "source": [
    "clean_data['Gender'] = clean_data['Gender'].apply(lambda x: 1 if x == 'Female' else 0)\n",
    "# clean_data.drop(['Gender'], axis=1, inplace=True) # Uncomment to try model without Gender, but better results are achieved with Gender\n",
    "clean_data.head()"
   ]
  },
  {
   "cell_type": "markdown",
   "id": "ad2d10e1",
   "metadata": {},
   "source": [
    "Ensure that there are no null values in this cleaned DataFrame:"
   ]
  },
  {
   "cell_type": "code",
   "execution_count": 19,
   "id": "b1e166cc",
   "metadata": {},
   "outputs": [
    {
     "name": "stdout",
     "output_type": "stream",
     "text": [
      "0\n"
     ]
    }
   ],
   "source": [
    "print(clean_data.isnull().sum().sum())"
   ]
  },
  {
   "cell_type": "markdown",
   "id": "72c21820",
   "metadata": {},
   "source": [
    "Extract X (dependent variables) and y (independent variable) from the cleaned DataFrame:"
   ]
  },
  {
   "cell_type": "code",
   "execution_count": 20,
   "id": "1a475488",
   "metadata": {
    "scrolled": false
   },
   "outputs": [
    {
     "name": "stdout",
     "output_type": "stream",
     "text": [
      "   Gender  Age  EstimatedSalary\n",
      "0       0   19            19000\n",
      "1       0   35            20000\n",
      "2       1   26            43000\n",
      "3       1   27            57000\n",
      "4       0   19            76000 \n",
      "\n",
      "[0 0 0 0 0 0 0 1 0 0]\n"
     ]
    }
   ],
   "source": [
    "X = clean_data.drop(['Purchased'], axis=1)\n",
    "y = clean_data['Purchased'].values\n",
    "print(X.head(), '\\n')\n",
    "print(y[0:10])"
   ]
  },
  {
   "cell_type": "markdown",
   "id": "680c9a2b",
   "metadata": {},
   "source": [
    "#### 8. Scale the independent variables"
   ]
  },
  {
   "cell_type": "markdown",
   "id": "8dc20f7e",
   "metadata": {},
   "source": [
    "Import StandardScaler class and initialise object:"
   ]
  },
  {
   "cell_type": "code",
   "execution_count": 21,
   "id": "ddccda14",
   "metadata": {},
   "outputs": [],
   "source": [
    "from sklearn.preprocessing import StandardScaler\n",
    "sc = StandardScaler()"
   ]
  },
  {
   "cell_type": "markdown",
   "id": "8e69b6f5",
   "metadata": {},
   "source": [
    "Scale the independent variables to same distribution (mean = 0, variance = 1):"
   ]
  },
  {
   "cell_type": "code",
   "execution_count": 22,
   "id": "25e92b74",
   "metadata": {},
   "outputs": [
    {
     "data": {
      "text/plain": [
       "array([[-1.02020406, -1.78179743, -1.49004624],\n",
       "       [-1.02020406, -0.25358736, -1.46068138],\n",
       "       [ 0.98019606, -1.11320552, -0.78528968],\n",
       "       ...,\n",
       "       [ 0.98019606,  1.17910958, -1.46068138],\n",
       "       [-1.02020406, -0.15807423, -1.07893824],\n",
       "       [ 0.98019606,  1.08359645, -0.99084367]])"
      ]
     },
     "execution_count": 22,
     "metadata": {},
     "output_type": "execute_result"
    }
   ],
   "source": [
    "norm_X = sc.fit_transform(X)\n",
    "norm_X"
   ]
  },
  {
   "cell_type": "markdown",
   "id": "d4f05d3b",
   "metadata": {},
   "source": [
    "#### 9. Split into train and test data"
   ]
  },
  {
   "cell_type": "markdown",
   "id": "3183d986",
   "metadata": {},
   "source": [
    "Given a test size (in this case, 25% of the whole sample), randomly divide the entries between train data, which will be used to train the model; and test data, which will be used to test the model's predictions."
   ]
  },
  {
   "cell_type": "code",
   "execution_count": 23,
   "id": "e0fca6dd",
   "metadata": {},
   "outputs": [
    {
     "data": {
      "text/plain": [
       "(300, 100)"
      ]
     },
     "execution_count": 23,
     "metadata": {},
     "output_type": "execute_result"
    }
   ],
   "source": [
    "from sklearn.model_selection import train_test_split\n",
    "X_train, X_test, y_train, y_test = train_test_split(norm_X, y, \n",
    "                                                    test_size=0.25, \n",
    "                                                    random_state=42)\n",
    "len(X_train), len(X_test)"
   ]
  },
  {
   "cell_type": "markdown",
   "id": "0029b222",
   "metadata": {},
   "source": [
    "#### 10. Build and train logistic regression model"
   ]
  },
  {
   "cell_type": "markdown",
   "id": "0111d4b0",
   "metadata": {},
   "source": [
    "Import LogisticRegression class and initialise object:"
   ]
  },
  {
   "cell_type": "code",
   "execution_count": 24,
   "id": "ad13064f",
   "metadata": {},
   "outputs": [],
   "source": [
    "from sklearn.linear_model import LogisticRegression\n",
    "model = LogisticRegression()"
   ]
  },
  {
   "cell_type": "markdown",
   "id": "a09ea2d8",
   "metadata": {},
   "source": [
    "Fit the train data to the model:"
   ]
  },
  {
   "cell_type": "code",
   "execution_count": 25,
   "id": "7eb66c4e",
   "metadata": {},
   "outputs": [
    {
     "data": {
      "text/plain": [
       "LogisticRegression()"
      ]
     },
     "execution_count": 25,
     "metadata": {},
     "output_type": "execute_result"
    }
   ],
   "source": [
    "model.fit(X_train, y_train)"
   ]
  },
  {
   "cell_type": "markdown",
   "id": "043cb6bf",
   "metadata": {},
   "source": [
    "#### 11. Apply trained model to the test data and check results"
   ]
  },
  {
   "cell_type": "markdown",
   "id": "6fd114a9",
   "metadata": {},
   "source": [
    "Use the model to make predictions (0/1 whether or not the client will buy an SUV) from the test entries' dependent variables:"
   ]
  },
  {
   "cell_type": "code",
   "execution_count": 26,
   "id": "254e2faa",
   "metadata": {
    "scrolled": false
   },
   "outputs": [
    {
     "data": {
      "text/plain": [
       "array([0, 1, 0, 1, 0, 0, 1, 0, 0, 0, 0, 1, 0, 0, 0, 0, 1, 1, 0, 1, 0, 0,\n",
       "       0, 1, 0, 1, 1, 0, 1, 0, 0, 0, 1, 0, 1, 0, 0, 0, 0, 0, 0, 0, 0, 0,\n",
       "       0, 1, 0, 0, 1, 0, 0, 1, 0, 0, 0, 0, 1, 0, 0, 0, 0, 0, 1, 0, 0, 0,\n",
       "       1, 1, 0, 0, 1, 0, 0, 0, 0, 0, 1, 1, 0, 0, 0, 0, 1, 0, 1, 0, 0, 1,\n",
       "       0, 0, 1, 0, 0, 0, 0, 0, 1, 0, 1, 0], dtype=int64)"
      ]
     },
     "execution_count": 26,
     "metadata": {},
     "output_type": "execute_result"
    }
   ],
   "source": [
    "y_pred = model.predict(X_test)\n",
    "y_pred"
   ]
  },
  {
   "cell_type": "markdown",
   "id": "a1c0c23f",
   "metadata": {},
   "source": [
    "Import classification_report function and create report regarding how well the model has classified this train data (y_pred), compared to the actual true classification (y_test):"
   ]
  },
  {
   "cell_type": "code",
   "execution_count": 27,
   "id": "09b4223c",
   "metadata": {},
   "outputs": [
    {
     "name": "stdout",
     "output_type": "stream",
     "text": [
      "              precision    recall  f1-score   support\n",
      "\n",
      "           0       0.86      0.97      0.91        63\n",
      "           1       0.93      0.73      0.82        37\n",
      "\n",
      "    accuracy                           0.88       100\n",
      "   macro avg       0.90      0.85      0.86       100\n",
      "weighted avg       0.89      0.88      0.88       100\n",
      "\n"
     ]
    }
   ],
   "source": [
    "from sklearn.metrics import classification_report\n",
    "print(classification_report(y_test, y_pred))"
   ]
  },
  {
   "cell_type": "markdown",
   "id": "6ae863f8",
   "metadata": {},
   "source": [
    "Import confusion_matrix function and create confusion matrix:"
   ]
  },
  {
   "cell_type": "code",
   "execution_count": 28,
   "id": "2c02e560",
   "metadata": {
    "scrolled": false
   },
   "outputs": [
    {
     "data": {
      "text/html": [
       "<div>\n",
       "<style scoped>\n",
       "    .dataframe tbody tr th:only-of-type {\n",
       "        vertical-align: middle;\n",
       "    }\n",
       "\n",
       "    .dataframe tbody tr th {\n",
       "        vertical-align: top;\n",
       "    }\n",
       "\n",
       "    .dataframe thead th {\n",
       "        text-align: right;\n",
       "    }\n",
       "</style>\n",
       "<table border=\"1\" class=\"dataframe\">\n",
       "  <thead>\n",
       "    <tr style=\"text-align: right;\">\n",
       "      <th></th>\n",
       "      <th>Predicted 0s</th>\n",
       "      <th>Predicted 1s</th>\n",
       "    </tr>\n",
       "  </thead>\n",
       "  <tbody>\n",
       "    <tr>\n",
       "      <th>Actual 0s</th>\n",
       "      <td>61</td>\n",
       "      <td>2</td>\n",
       "    </tr>\n",
       "    <tr>\n",
       "      <th>Actual 1s</th>\n",
       "      <td>10</td>\n",
       "      <td>27</td>\n",
       "    </tr>\n",
       "  </tbody>\n",
       "</table>\n",
       "</div>"
      ],
      "text/plain": [
       "           Predicted 0s  Predicted 1s\n",
       "Actual 0s            61             2\n",
       "Actual 1s            10            27"
      ]
     },
     "execution_count": 28,
     "metadata": {},
     "output_type": "execute_result"
    }
   ],
   "source": [
    "from sklearn.metrics import confusion_matrix\n",
    "cf_matrix = confusion_matrix(y_test, y_pred)\n",
    "pd.DataFrame(cf_matrix, columns=['Predicted 0s','Predicted 1s'], index=['Actual 0s','Actual 1s'])"
   ]
  },
  {
   "cell_type": "markdown",
   "id": "4d9bf16b",
   "metadata": {},
   "source": [
    "#### 12. Predict probabilities instead of 0/1"
   ]
  },
  {
   "cell_type": "markdown",
   "id": "caa00718",
   "metadata": {},
   "source": [
    "In reality, a logistic regression actually generates values (probabilities) between 0 and 1. When the value is higher than 0.5 it is assigned to 1. On the other hand, when the value is lower than 0.5, it is assigned to 0.\n",
    "\n",
    "Instead of directly obtaining the 0/1 classification, I want to reach the actual probabilities in each case."
   ]
  },
  {
   "cell_type": "code",
   "execution_count": 29,
   "id": "11ce6ba1",
   "metadata": {},
   "outputs": [
    {
     "data": {
      "text/plain": [
       "array([[0.7439731 , 0.2560269 ],\n",
       "       [0.02973754, 0.97026246],\n",
       "       [0.97774951, 0.02225049],\n",
       "       [0.16069512, 0.83930488],\n",
       "       [0.98368824, 0.01631176]])"
      ]
     },
     "execution_count": 29,
     "metadata": {},
     "output_type": "execute_result"
    }
   ],
   "source": [
    "y_test_probs = model.predict_proba(X_test)\n",
    "y_test_probs[0:5]"
   ]
  },
  {
   "cell_type": "markdown",
   "id": "56a28e8d",
   "metadata": {},
   "source": [
    "Now I search for the cases in which we are failing to predict well, and I check the probability values:"
   ]
  },
  {
   "cell_type": "code",
   "execution_count": 30,
   "id": "625dcbdc",
   "metadata": {},
   "outputs": [
    {
     "name": "stdout",
     "output_type": "stream",
     "text": [
      "17, real: 0, predicted: 1, predicted probability: 0.6406241038147275\n",
      "22, real: 1, predicted: 0, predicted probability: 0.3375557452001464\n",
      "26, real: 0, predicted: 1, predicted probability: 0.5451155889791178\n",
      "30, real: 1, predicted: 0, predicted probability: 0.385625241342253\n",
      "40, real: 1, predicted: 0, predicted probability: 0.45801389147395805\n",
      "43, real: 1, predicted: 0, predicted probability: 0.31667429451067813\n",
      "65, real: 1, predicted: 0, predicted probability: 0.26293053410222067\n",
      "74, real: 1, predicted: 0, predicted probability: 0.4191489366633192\n",
      "79, real: 1, predicted: 0, predicted probability: 0.2686614592041106\n",
      "81, real: 1, predicted: 0, predicted probability: 0.3305695592629724\n",
      "85, real: 1, predicted: 0, predicted probability: 0.38950423496340897\n",
      "99, real: 1, predicted: 0, predicted probability: 0.4198652953617394\n"
     ]
    }
   ],
   "source": [
    "wrong_indices = []\n",
    "for i in range(len(y_test)):\n",
    "    real, pred = y_test[i], y_pred[i]\n",
    "    if real != pred:\n",
    "        print('{}, real: {}, predicted: {}, predicted probability: {}'\n",
    "              .format(i, real, y_pred[i], y_test_probs[i][1]))\n",
    "        wrong_indices.append(i)"
   ]
  },
  {
   "cell_type": "markdown",
   "id": "034f33ed",
   "metadata": {},
   "source": [
    "It seems like all probabilities of the entries we fail to classifiy correctly fall between 0.25 and 0.75, which make sense. These probabilities indicate that the model is not (so) that sure if assigning 0 or 1.\n",
    "\n",
    "Let's check the probability distribution for all entries, not only the miss-classified:"
   ]
  },
  {
   "cell_type": "code",
   "execution_count": 31,
   "id": "f3883eec",
   "metadata": {},
   "outputs": [
    {
     "data": {
      "image/png": "[encoded data removed]",
      "text/plain": [
       "<Figure size 432x288 with 1 Axes>"
      ]
     },
     "metadata": {
      "needs_background": "light"
     },
     "output_type": "display_data"
    }
   ],
   "source": [
    "y_probabilities = []\n",
    "for prob_0, prob_1 in y_test_probs:\n",
    "    y_probabilities.append(prob_0)\n",
    "y_probabilities = np.array(y_probabilities)\n",
    "\n",
    "df = pd.DataFrame(data=y_probabilities, columns=['probability'])\n",
    "\n",
    "df.plot.hist(bins=20, color='purple')\n",
    "plt.show()"
   ]
  },
  {
   "cell_type": "markdown",
   "id": "cae294cd",
   "metadata": {},
   "source": [
    "Lots of probability values are outside the 0.25-0.75 range. Let's check exactly how many:"
   ]
  },
  {
   "cell_type": "code",
   "execution_count": 32,
   "id": "46ac07c4",
   "metadata": {},
   "outputs": [
    {
     "data": {
      "text/html": [
       "<div>\n",
       "<style scoped>\n",
       "    .dataframe tbody tr th:only-of-type {\n",
       "        vertical-align: middle;\n",
       "    }\n",
       "\n",
       "    .dataframe tbody tr th {\n",
       "        vertical-align: top;\n",
       "    }\n",
       "\n",
       "    .dataframe thead th {\n",
       "        text-align: right;\n",
       "    }\n",
       "</style>\n",
       "<table border=\"1\" class=\"dataframe\">\n",
       "  <thead>\n",
       "    <tr style=\"text-align: right;\">\n",
       "      <th></th>\n",
       "      <th>probability</th>\n",
       "      <th>probability_group</th>\n",
       "    </tr>\n",
       "  </thead>\n",
       "  <tbody>\n",
       "    <tr>\n",
       "      <th>0</th>\n",
       "      <td>0.743973</td>\n",
       "      <td>0.25-0.75</td>\n",
       "    </tr>\n",
       "    <tr>\n",
       "      <th>1</th>\n",
       "      <td>0.029738</td>\n",
       "      <td>&lt;0.25</td>\n",
       "    </tr>\n",
       "    <tr>\n",
       "      <th>2</th>\n",
       "      <td>0.977750</td>\n",
       "      <td>&gt;0.75</td>\n",
       "    </tr>\n",
       "    <tr>\n",
       "      <th>3</th>\n",
       "      <td>0.160695</td>\n",
       "      <td>&lt;0.25</td>\n",
       "    </tr>\n",
       "    <tr>\n",
       "      <th>4</th>\n",
       "      <td>0.983688</td>\n",
       "      <td>&gt;0.75</td>\n",
       "    </tr>\n",
       "  </tbody>\n",
       "</table>\n",
       "</div>"
      ],
      "text/plain": [
       "   probability probability_group\n",
       "0     0.743973         0.25-0.75\n",
       "1     0.029738             <0.25\n",
       "2     0.977750             >0.75\n",
       "3     0.160695             <0.25\n",
       "4     0.983688             >0.75"
      ]
     },
     "execution_count": 32,
     "metadata": {},
     "output_type": "execute_result"
    }
   ],
   "source": [
    "def get_probability_group(prob):\n",
    "    if prob < 0.25:\n",
    "        return '<0.25'\n",
    "    elif prob <= 0.75:\n",
    "        return '0.25-0.75'\n",
    "    else:\n",
    "        return '>0.75'\n",
    "    \n",
    "df['probability_group'] = df['probability'].apply(get_probability_group)\n",
    "df.head()"
   ]
  },
  {
   "cell_type": "code",
   "execution_count": 33,
   "id": "6180e6fc",
   "metadata": {
    "scrolled": false
   },
   "outputs": [
    {
     "name": "stdout",
     "output_type": "stream",
     "text": [
      "probability_group\n",
      "0.25-0.75    33\n",
      "<0.25        19\n",
      ">0.75        48\n",
      "dtype: int64\n"
     ]
    },
    {
     "data": {
      "image/png": "[encoded data removed]",
      "text/plain": [
       "<Figure size 432x288 with 1 Axes>"
      ]
     },
     "metadata": {
      "needs_background": "light"
     },
     "output_type": "display_data"
    }
   ],
   "source": [
    "print(df.groupby('probability_group').size())\n",
    "sns.countplot(x='probability_group', data=df, \n",
    "              palette=['darkgreen', 'darkred', 'darkgreen'], \n",
    "              order=['<0.25','0.25-0.75','>0.75'])\n",
    "plt.show()"
   ]
  },
  {
   "cell_type": "markdown",
   "id": "6eef8e39",
   "metadata": {},
   "source": [
    "So 34% of the entries end up with a probability between 0.25 and 0.75. In this group, I really cannot be sure if the classification will work properly, since from 34 cases, 14 were missclassified (41%).\n",
    "\n",
    "On the other hand, the remaining 66% of the entries (18% + 48%) have probabilities either higher than 0.75 or lower than 0.25. This means that the model is relatively sure of what class to assign (0/1). Within this group of entries, 100% have been correctly classified for the train test! "
   ]
  },
  {
   "cell_type": "markdown",
   "id": "f63132b3",
   "metadata": {},
   "source": [
    "#### 13. Linear regression coefficients"
   ]
  },
  {
   "cell_type": "code",
   "execution_count": 34,
   "id": "aa1a30df",
   "metadata": {},
   "outputs": [
    {
     "data": {
      "text/plain": [
       "array([[-0.08564686,  1.98462669,  1.07716167]])"
      ]
     },
     "execution_count": 34,
     "metadata": {},
     "output_type": "execute_result"
    }
   ],
   "source": [
    "model.coef_"
   ]
  },
  {
   "cell_type": "code",
   "execution_count": 35,
   "id": "df4b96f1",
   "metadata": {},
   "outputs": [
    {
     "data": {
      "text/plain": [
       "array([-1.05450375])"
      ]
     },
     "execution_count": 35,
     "metadata": {},
     "output_type": "execute_result"
    }
   ],
   "source": [
    "model.intercept_"
   ]
  }
 ],
 "metadata": {
  "kernelspec": {
   "display_name": "Python 3 (ipykernel)",
   "language": "python",
   "name": "python3"
  },
  "language_info": {
   "codemirror_mode": {
    "name": "ipython",
    "version": 3
   },
   "file_extension": ".py",
   "mimetype": "text/x-python",
   "name": "python",
   "nbconvert_exporter": "python",
   "pygments_lexer": "ipython3",
   "version": "3.9.12"
  }
 },
 "nbformat": 4,
 "nbformat_minor": 5
}
